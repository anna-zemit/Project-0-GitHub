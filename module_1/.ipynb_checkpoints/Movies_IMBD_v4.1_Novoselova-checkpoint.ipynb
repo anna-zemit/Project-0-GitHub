{
 "cells": [
  {
   "cell_type": "code",
   "execution_count": 1,
   "metadata": {
    "_cell_guid": "b1076dfc-b9ad-4769-8c92-a6c4dae69d19",
    "_uuid": "8f2839f25d086af736a60e9eeb907d3b93b6e0e5",
    "colab": {},
    "colab_type": "code",
    "id": "U2D2gTdJVp90"
   },
   "outputs": [],
   "source": [
    "import numpy as np\n",
    "import pandas as pd\n",
    "import seaborn as sns\n",
    "import matplotlib.pyplot as plt\n",
    "from collections import Counter"
   ]
  },
  {
   "cell_type": "code",
   "execution_count": 52,
   "metadata": {
    "_cell_guid": "79c7e3d0-c299-4dcb-8224-4455121ee9b0",
    "_uuid": "d629ff2d2480ee46fbb7e2d37f6b5fab8052498a",
    "colab": {},
    "colab_type": "code",
    "id": "oyGfxL3eVp9-"
   },
   "outputs": [
    {
     "data": {
      "text/html": [
       "<div>\n",
       "<style scoped>\n",
       "    .dataframe tbody tr th:only-of-type {\n",
       "        vertical-align: middle;\n",
       "    }\n",
       "\n",
       "    .dataframe tbody tr th {\n",
       "        vertical-align: top;\n",
       "    }\n",
       "\n",
       "    .dataframe thead th {\n",
       "        text-align: right;\n",
       "    }\n",
       "</style>\n",
       "<table border=\"1\" class=\"dataframe\">\n",
       "  <thead>\n",
       "    <tr style=\"text-align: right;\">\n",
       "      <th></th>\n",
       "      <th>imdb_id</th>\n",
       "      <th>budget</th>\n",
       "      <th>revenue</th>\n",
       "      <th>original_title</th>\n",
       "      <th>cast</th>\n",
       "      <th>director</th>\n",
       "      <th>tagline</th>\n",
       "      <th>overview</th>\n",
       "      <th>runtime</th>\n",
       "      <th>genres</th>\n",
       "      <th>production_companies</th>\n",
       "      <th>release_date</th>\n",
       "      <th>vote_average</th>\n",
       "      <th>release_year</th>\n",
       "    </tr>\n",
       "  </thead>\n",
       "  <tbody>\n",
       "    <tr>\n",
       "      <th>512</th>\n",
       "      <td>tt0133152</td>\n",
       "      <td>100000000</td>\n",
       "      <td>362211740</td>\n",
       "      <td>Planet of the Apes</td>\n",
       "      <td>Mark Wahlberg|Tim Roth|Helena Bonham Carter|Mi...</td>\n",
       "      <td>Tim Burton</td>\n",
       "      <td>You'll be sorry you were ever born human</td>\n",
       "      <td>After a spectacular crash-landing on an unchar...</td>\n",
       "      <td>119</td>\n",
       "      <td>Thriller|Science Fiction|Action|Adventure</td>\n",
       "      <td>Twentieth Century Fox Film Corporation|Tim Bur...</td>\n",
       "      <td>7/25/2001</td>\n",
       "      <td>5.5</td>\n",
       "      <td>2001</td>\n",
       "    </tr>\n",
       "    <tr>\n",
       "      <th>283</th>\n",
       "      <td>tt0485947</td>\n",
       "      <td>47000000</td>\n",
       "      <td>3547209</td>\n",
       "      <td>Mr. Nobody</td>\n",
       "      <td>Jared Leto|Diane Kruger|Linh Äan Pháº¡m|Sarah ...</td>\n",
       "      <td>Jaco Van Dormael</td>\n",
       "      <td>Nothing is real, everything is possible.</td>\n",
       "      <td>Nemo Nobody leads an ordinary existence with h...</td>\n",
       "      <td>141</td>\n",
       "      <td>Science Fiction|Drama|Romance|Fantasy</td>\n",
       "      <td>Pan EuropÃ©enne Production|Virtual Films</td>\n",
       "      <td>9/11/2009</td>\n",
       "      <td>7.8</td>\n",
       "      <td>2009</td>\n",
       "    </tr>\n",
       "    <tr>\n",
       "      <th>1140</th>\n",
       "      <td>tt0316356</td>\n",
       "      <td>22000000</td>\n",
       "      <td>68296293</td>\n",
       "      <td>Open Range</td>\n",
       "      <td>Kevin Costner|Robert Duvall|Michael Gambon|Mic...</td>\n",
       "      <td>Kevin Costner</td>\n",
       "      <td>No place to run. No reason to hide.</td>\n",
       "      <td>A former gunslinger is forced to take up arms ...</td>\n",
       "      <td>139</td>\n",
       "      <td>Western</td>\n",
       "      <td>Tig Productions|Touchstone Pictures|Beacon Pic...</td>\n",
       "      <td>8/29/2003</td>\n",
       "      <td>6.8</td>\n",
       "      <td>2003</td>\n",
       "    </tr>\n",
       "    <tr>\n",
       "      <th>28</th>\n",
       "      <td>tt1895587</td>\n",
       "      <td>20000000</td>\n",
       "      <td>88346473</td>\n",
       "      <td>Spotlight</td>\n",
       "      <td>Mark Ruffalo|Michael Keaton|Rachel McAdams|Lie...</td>\n",
       "      <td>Tom McCarthy</td>\n",
       "      <td>Break the story. Break the silence.</td>\n",
       "      <td>The true story of how The Boston Globe uncover...</td>\n",
       "      <td>128</td>\n",
       "      <td>Drama|Thriller|History</td>\n",
       "      <td>Participant Media|Open Road Films|Anonymous Co...</td>\n",
       "      <td>11/6/2015</td>\n",
       "      <td>7.8</td>\n",
       "      <td>2015</td>\n",
       "    </tr>\n",
       "    <tr>\n",
       "      <th>116</th>\n",
       "      <td>tt2883434</td>\n",
       "      <td>9000000</td>\n",
       "      <td>21571189</td>\n",
       "      <td>Black or White</td>\n",
       "      <td>Kevin Costner|Jennifer Ehle|Gillian Jacobs|Oct...</td>\n",
       "      <td>Mike Binder</td>\n",
       "      <td>There's more to family than what you see.</td>\n",
       "      <td>A grieving widower is drawn into a custody bat...</td>\n",
       "      <td>121</td>\n",
       "      <td>Drama</td>\n",
       "      <td>Treehouse Pictures</td>\n",
       "      <td>1/30/2015</td>\n",
       "      <td>6.7</td>\n",
       "      <td>2015</td>\n",
       "    </tr>\n",
       "  </tbody>\n",
       "</table>\n",
       "</div>"
      ],
      "text/plain": [
       "        imdb_id     budget    revenue      original_title  \\\n",
       "512   tt0133152  100000000  362211740  Planet of the Apes   \n",
       "283   tt0485947   47000000    3547209          Mr. Nobody   \n",
       "1140  tt0316356   22000000   68296293          Open Range   \n",
       "28    tt1895587   20000000   88346473           Spotlight   \n",
       "116   tt2883434    9000000   21571189      Black or White   \n",
       "\n",
       "                                                   cast          director  \\\n",
       "512   Mark Wahlberg|Tim Roth|Helena Bonham Carter|Mi...        Tim Burton   \n",
       "283   Jared Leto|Diane Kruger|Linh Äan Pháº¡m|Sarah ...  Jaco Van Dormael   \n",
       "1140  Kevin Costner|Robert Duvall|Michael Gambon|Mic...     Kevin Costner   \n",
       "28    Mark Ruffalo|Michael Keaton|Rachel McAdams|Lie...      Tom McCarthy   \n",
       "116   Kevin Costner|Jennifer Ehle|Gillian Jacobs|Oct...       Mike Binder   \n",
       "\n",
       "                                        tagline  \\\n",
       "512    You'll be sorry you were ever born human   \n",
       "283    Nothing is real, everything is possible.   \n",
       "1140        No place to run. No reason to hide.   \n",
       "28          Break the story. Break the silence.   \n",
       "116   There's more to family than what you see.   \n",
       "\n",
       "                                               overview  runtime  \\\n",
       "512   After a spectacular crash-landing on an unchar...      119   \n",
       "283   Nemo Nobody leads an ordinary existence with h...      141   \n",
       "1140  A former gunslinger is forced to take up arms ...      139   \n",
       "28    The true story of how The Boston Globe uncover...      128   \n",
       "116   A grieving widower is drawn into a custody bat...      121   \n",
       "\n",
       "                                         genres  \\\n",
       "512   Thriller|Science Fiction|Action|Adventure   \n",
       "283       Science Fiction|Drama|Romance|Fantasy   \n",
       "1140                                    Western   \n",
       "28                       Drama|Thriller|History   \n",
       "116                                       Drama   \n",
       "\n",
       "                                   production_companies release_date  \\\n",
       "512   Twentieth Century Fox Film Corporation|Tim Bur...    7/25/2001   \n",
       "283            Pan EuropÃ©enne Production|Virtual Films    9/11/2009   \n",
       "1140  Tig Productions|Touchstone Pictures|Beacon Pic...    8/29/2003   \n",
       "28    Participant Media|Open Road Films|Anonymous Co...    11/6/2015   \n",
       "116                                  Treehouse Pictures    1/30/2015   \n",
       "\n",
       "      vote_average  release_year  \n",
       "512            5.5          2001  \n",
       "283            7.8          2009  \n",
       "1140           6.8          2003  \n",
       "28             7.8          2015  \n",
       "116            6.7          2015  "
      ]
     },
     "execution_count": 52,
     "metadata": {},
     "output_type": "execute_result"
    }
   ],
   "source": [
    "data = pd.read_csv('movie_bd_v5.csv')\n",
    "data.sample(5)"
   ]
  },
  {
   "cell_type": "code",
   "execution_count": 3,
   "metadata": {
    "colab": {},
    "colab_type": "code",
    "id": "CoYUnagMVp-C"
   },
   "outputs": [
    {
     "data": {
      "text/html": [
       "<div>\n",
       "<style scoped>\n",
       "    .dataframe tbody tr th:only-of-type {\n",
       "        vertical-align: middle;\n",
       "    }\n",
       "\n",
       "    .dataframe tbody tr th {\n",
       "        vertical-align: top;\n",
       "    }\n",
       "\n",
       "    .dataframe thead th {\n",
       "        text-align: right;\n",
       "    }\n",
       "</style>\n",
       "<table border=\"1\" class=\"dataframe\">\n",
       "  <thead>\n",
       "    <tr style=\"text-align: right;\">\n",
       "      <th></th>\n",
       "      <th>budget</th>\n",
       "      <th>revenue</th>\n",
       "      <th>runtime</th>\n",
       "      <th>vote_average</th>\n",
       "      <th>release_year</th>\n",
       "    </tr>\n",
       "  </thead>\n",
       "  <tbody>\n",
       "    <tr>\n",
       "      <th>count</th>\n",
       "      <td>1.889000e+03</td>\n",
       "      <td>1.889000e+03</td>\n",
       "      <td>1889.000000</td>\n",
       "      <td>1889.000000</td>\n",
       "      <td>1889.000000</td>\n",
       "    </tr>\n",
       "    <tr>\n",
       "      <th>mean</th>\n",
       "      <td>5.431083e+07</td>\n",
       "      <td>1.553653e+08</td>\n",
       "      <td>109.658549</td>\n",
       "      <td>6.140762</td>\n",
       "      <td>2007.860773</td>\n",
       "    </tr>\n",
       "    <tr>\n",
       "      <th>std</th>\n",
       "      <td>4.858721e+07</td>\n",
       "      <td>2.146698e+08</td>\n",
       "      <td>18.017041</td>\n",
       "      <td>0.764763</td>\n",
       "      <td>4.468841</td>\n",
       "    </tr>\n",
       "    <tr>\n",
       "      <th>min</th>\n",
       "      <td>5.000000e+06</td>\n",
       "      <td>2.033165e+06</td>\n",
       "      <td>63.000000</td>\n",
       "      <td>3.300000</td>\n",
       "      <td>2000.000000</td>\n",
       "    </tr>\n",
       "    <tr>\n",
       "      <th>25%</th>\n",
       "      <td>2.000000e+07</td>\n",
       "      <td>3.456058e+07</td>\n",
       "      <td>97.000000</td>\n",
       "      <td>5.600000</td>\n",
       "      <td>2004.000000</td>\n",
       "    </tr>\n",
       "    <tr>\n",
       "      <th>50%</th>\n",
       "      <td>3.800000e+07</td>\n",
       "      <td>8.361541e+07</td>\n",
       "      <td>107.000000</td>\n",
       "      <td>6.100000</td>\n",
       "      <td>2008.000000</td>\n",
       "    </tr>\n",
       "    <tr>\n",
       "      <th>75%</th>\n",
       "      <td>7.200000e+07</td>\n",
       "      <td>1.782626e+08</td>\n",
       "      <td>120.000000</td>\n",
       "      <td>6.600000</td>\n",
       "      <td>2012.000000</td>\n",
       "    </tr>\n",
       "    <tr>\n",
       "      <th>max</th>\n",
       "      <td>3.800000e+08</td>\n",
       "      <td>2.781506e+09</td>\n",
       "      <td>214.000000</td>\n",
       "      <td>8.100000</td>\n",
       "      <td>2015.000000</td>\n",
       "    </tr>\n",
       "  </tbody>\n",
       "</table>\n",
       "</div>"
      ],
      "text/plain": [
       "             budget       revenue      runtime  vote_average  release_year\n",
       "count  1.889000e+03  1.889000e+03  1889.000000   1889.000000   1889.000000\n",
       "mean   5.431083e+07  1.553653e+08   109.658549      6.140762   2007.860773\n",
       "std    4.858721e+07  2.146698e+08    18.017041      0.764763      4.468841\n",
       "min    5.000000e+06  2.033165e+06    63.000000      3.300000   2000.000000\n",
       "25%    2.000000e+07  3.456058e+07    97.000000      5.600000   2004.000000\n",
       "50%    3.800000e+07  8.361541e+07   107.000000      6.100000   2008.000000\n",
       "75%    7.200000e+07  1.782626e+08   120.000000      6.600000   2012.000000\n",
       "max    3.800000e+08  2.781506e+09   214.000000      8.100000   2015.000000"
      ]
     },
     "execution_count": 3,
     "metadata": {},
     "output_type": "execute_result"
    }
   ],
   "source": [
    "data.describe()"
   ]
  },
  {
   "cell_type": "markdown",
   "metadata": {
    "colab_type": "text",
    "id": "DTIt7ezGVp-G"
   },
   "source": [
    "# Предобработка"
   ]
  },
  {
   "cell_type": "code",
   "execution_count": 4,
   "metadata": {},
   "outputs": [],
   "source": [
    "answers = {} # создадим словарь для ответов"
   ]
  },
  {
   "cell_type": "code",
   "execution_count": 53,
   "metadata": {
    "colab": {},
    "colab_type": "code",
    "id": "jNb40DwKVp-H"
   },
   "outputs": [
    {
     "data": {
      "text/html": [
       "<div>\n",
       "<style scoped>\n",
       "    .dataframe tbody tr th:only-of-type {\n",
       "        vertical-align: middle;\n",
       "    }\n",
       "\n",
       "    .dataframe tbody tr th {\n",
       "        vertical-align: top;\n",
       "    }\n",
       "\n",
       "    .dataframe thead th {\n",
       "        text-align: right;\n",
       "    }\n",
       "</style>\n",
       "<table border=\"1\" class=\"dataframe\">\n",
       "  <thead>\n",
       "    <tr style=\"text-align: right;\">\n",
       "      <th></th>\n",
       "      <th>imdb_id</th>\n",
       "      <th>budget</th>\n",
       "      <th>revenue</th>\n",
       "      <th>profit</th>\n",
       "      <th>original_title</th>\n",
       "      <th>cast</th>\n",
       "      <th>director</th>\n",
       "      <th>tagline</th>\n",
       "      <th>overview</th>\n",
       "      <th>runtime</th>\n",
       "      <th>genres</th>\n",
       "      <th>production_companies</th>\n",
       "      <th>release_date</th>\n",
       "      <th>vote_average</th>\n",
       "      <th>release_year</th>\n",
       "    </tr>\n",
       "  </thead>\n",
       "  <tbody>\n",
       "    <tr>\n",
       "      <th>1531</th>\n",
       "      <td>tt0462504</td>\n",
       "      <td>10000000</td>\n",
       "      <td>7177143</td>\n",
       "      <td>-2822857</td>\n",
       "      <td>Rescue Dawn</td>\n",
       "      <td>[Christian Bale, Steve Zahn, Marshall Bell, To...</td>\n",
       "      <td>[Werner Herzog]</td>\n",
       "      <td>A true story of survival... declassified.</td>\n",
       "      <td>[A, US, Fighter, pilot's, epic, struggle, of, ...</td>\n",
       "      <td>126</td>\n",
       "      <td>[Adventure, Drama, War]</td>\n",
       "      <td>[Metro-Goldwyn-Mayer (MGM)]</td>\n",
       "      <td>2006-09-09</td>\n",
       "      <td>6.6</td>\n",
       "      <td>2006</td>\n",
       "    </tr>\n",
       "    <tr>\n",
       "      <th>333</th>\n",
       "      <td>tt1174732</td>\n",
       "      <td>7500000</td>\n",
       "      <td>26096852</td>\n",
       "      <td>18596852</td>\n",
       "      <td>An Education</td>\n",
       "      <td>[Carey Mulligan, Olivia Williams, Peter Sarsga...</td>\n",
       "      <td>[Lone Scherfig]</td>\n",
       "      <td>Innocence of the Young.</td>\n",
       "      <td>[A, coming-of-age, story, about, a, teenage, g...</td>\n",
       "      <td>100</td>\n",
       "      <td>[Drama, Romance]</td>\n",
       "      <td>[BBC Films]</td>\n",
       "      <td>2009-10-29</td>\n",
       "      <td>6.8</td>\n",
       "      <td>2009</td>\n",
       "    </tr>\n",
       "    <tr>\n",
       "      <th>1458</th>\n",
       "      <td>tt0414982</td>\n",
       "      <td>25000000</td>\n",
       "      <td>117719158</td>\n",
       "      <td>92719158</td>\n",
       "      <td>Final Destination 3</td>\n",
       "      <td>[Mary Elizabeth Winstead, Ryan Merriman, Kris ...</td>\n",
       "      <td>[James Wong]</td>\n",
       "      <td>This Ride Will Be The Death Of You.</td>\n",
       "      <td>[A, student's, premonition, of, a, deadly, rol...</td>\n",
       "      <td>93</td>\n",
       "      <td>[Horror, Mystery]</td>\n",
       "      <td>[New Line Cinema, Zide-Perry Productions, Kuma...</td>\n",
       "      <td>2006-02-10</td>\n",
       "      <td>5.8</td>\n",
       "      <td>2006</td>\n",
       "    </tr>\n",
       "    <tr>\n",
       "      <th>54</th>\n",
       "      <td>tt3397884</td>\n",
       "      <td>30000000</td>\n",
       "      <td>84025816</td>\n",
       "      <td>54025816</td>\n",
       "      <td>Sicario</td>\n",
       "      <td>[Emily Blunt, Benicio del Toro, Josh Brolin, V...</td>\n",
       "      <td>[Denis Villeneuve]</td>\n",
       "      <td>The border is just another line to cross.</td>\n",
       "      <td>[A, young, female, FBI, agent, joins, a, secre...</td>\n",
       "      <td>121</td>\n",
       "      <td>[Action, Crime, Drama, Mystery, Thriller]</td>\n",
       "      <td>[Lionsgate, Thunder Road Pictures, Black Label...</td>\n",
       "      <td>2015-09-17</td>\n",
       "      <td>7.1</td>\n",
       "      <td>2015</td>\n",
       "    </tr>\n",
       "    <tr>\n",
       "      <th>191</th>\n",
       "      <td>tt1809398</td>\n",
       "      <td>65000000</td>\n",
       "      <td>163442937</td>\n",
       "      <td>98442937</td>\n",
       "      <td>Unbroken</td>\n",
       "      <td>[Jack O'Connell, Domhnall Gleeson, Garrett Hed...</td>\n",
       "      <td>[Angelina Jolie]</td>\n",
       "      <td>Survival. Resilience. Redemption</td>\n",
       "      <td>[A, chronicle, of, the, life, of, Louis, Zampe...</td>\n",
       "      <td>137</td>\n",
       "      <td>[Drama, War]</td>\n",
       "      <td>[Legendary Pictures, 3 Arts Entertainment, Jol...</td>\n",
       "      <td>2014-12-25</td>\n",
       "      <td>7.2</td>\n",
       "      <td>2014</td>\n",
       "    </tr>\n",
       "  </tbody>\n",
       "</table>\n",
       "</div>"
      ],
      "text/plain": [
       "        imdb_id    budget    revenue    profit       original_title  \\\n",
       "1531  tt0462504  10000000    7177143  -2822857          Rescue Dawn   \n",
       "333   tt1174732   7500000   26096852  18596852         An Education   \n",
       "1458  tt0414982  25000000  117719158  92719158  Final Destination 3   \n",
       "54    tt3397884  30000000   84025816  54025816              Sicario   \n",
       "191   tt1809398  65000000  163442937  98442937             Unbroken   \n",
       "\n",
       "                                                   cast            director  \\\n",
       "1531  [Christian Bale, Steve Zahn, Marshall Bell, To...     [Werner Herzog]   \n",
       "333   [Carey Mulligan, Olivia Williams, Peter Sarsga...     [Lone Scherfig]   \n",
       "1458  [Mary Elizabeth Winstead, Ryan Merriman, Kris ...        [James Wong]   \n",
       "54    [Emily Blunt, Benicio del Toro, Josh Brolin, V...  [Denis Villeneuve]   \n",
       "191   [Jack O'Connell, Domhnall Gleeson, Garrett Hed...    [Angelina Jolie]   \n",
       "\n",
       "                                        tagline  \\\n",
       "1531  A true story of survival... declassified.   \n",
       "333                     Innocence of the Young.   \n",
       "1458        This Ride Will Be The Death Of You.   \n",
       "54    The border is just another line to cross.   \n",
       "191            Survival. Resilience. Redemption   \n",
       "\n",
       "                                               overview  runtime  \\\n",
       "1531  [A, US, Fighter, pilot's, epic, struggle, of, ...      126   \n",
       "333   [A, coming-of-age, story, about, a, teenage, g...      100   \n",
       "1458  [A, student's, premonition, of, a, deadly, rol...       93   \n",
       "54    [A, young, female, FBI, agent, joins, a, secre...      121   \n",
       "191   [A, chronicle, of, the, life, of, Louis, Zampe...      137   \n",
       "\n",
       "                                         genres  \\\n",
       "1531                    [Adventure, Drama, War]   \n",
       "333                            [Drama, Romance]   \n",
       "1458                          [Horror, Mystery]   \n",
       "54    [Action, Crime, Drama, Mystery, Thriller]   \n",
       "191                                [Drama, War]   \n",
       "\n",
       "                                   production_companies release_date  \\\n",
       "1531                        [Metro-Goldwyn-Mayer (MGM)]   2006-09-09   \n",
       "333                                         [BBC Films]   2009-10-29   \n",
       "1458  [New Line Cinema, Zide-Perry Productions, Kuma...   2006-02-10   \n",
       "54    [Lionsgate, Thunder Road Pictures, Black Label...   2015-09-17   \n",
       "191   [Legendary Pictures, 3 Arts Entertainment, Jol...   2014-12-25   \n",
       "\n",
       "      vote_average  release_year  \n",
       "1531           6.6          2006  \n",
       "333            6.8          2009  \n",
       "1458           5.8          2006  \n",
       "54             7.1          2015  \n",
       "191            7.2          2014  "
      ]
     },
     "execution_count": 53,
     "metadata": {},
     "output_type": "execute_result"
    }
   ],
   "source": [
    "# тут другие ваши предобработки колонок например:\n",
    "\n",
    "#the time given in the dataset is in string format.\n",
    "#So we need to change this in datetime format\n",
    "import datetime as dt\n",
    "data['release_date'] = pd.to_datetime(data['release_date'])\n",
    "\n",
    "# лучше код получения столбца profit вынести в Предобработку что в начале\n",
    "data['profit'] = data['revenue'] - data['budget']\n",
    "#Перемещение нового столбца в другую позицию\n",
    "data = data[['imdb_id', 'budget', 'revenue', 'profit', 'original_title', \n",
    "             'cast', 'director', 'tagline', 'overview', 'runtime', 'genres', \n",
    "             'production_companies', 'release_date', 'vote_average', 'release_year']]\n",
    "\n",
    "data['genres'] = data['genres'].str.split('|')\n",
    "data['director'] = data['director'].str.split('|')\n",
    "data['cast'] = data['cast'].str.split('|')\n",
    "data['production_companies'] = data['production_companies'].str.split('|')\n",
    "data['overview'] = data['overview'].str.split(' ')\n",
    "\n",
    "\n",
    "data.sample(5)"
   ]
  },
  {
   "cell_type": "markdown",
   "metadata": {
    "colab_type": "text",
    "id": "YxZaH-nPVp-L"
   },
   "source": [
    "# 1. У какого фильма из списка самый большой бюджет?"
   ]
  },
  {
   "cell_type": "markdown",
   "metadata": {
    "colab_type": "text",
    "id": "Nd-G5gX6Vp-M"
   },
   "source": [
    "Использовать варианты ответов в коде решения запрещено.    \n",
    "Вы думаете и в жизни у вас будут варианты ответов?)"
   ]
  },
  {
   "cell_type": "code",
   "execution_count": 7,
   "metadata": {
    "colab": {},
    "colab_type": "code",
    "id": "uVnXAY5RVp-O"
   },
   "outputs": [],
   "source": [
    "answers['1'] = '723. Pirates of the Caribbean: On Stranger Tides (tt1298650)'"
   ]
  },
  {
   "cell_type": "code",
   "execution_count": 54,
   "metadata": {
    "colab": {},
    "colab_type": "code",
    "id": "dZwb3m28Vp-S"
   },
   "outputs": [
    {
     "data": {
      "text/html": [
       "<div>\n",
       "<style scoped>\n",
       "    .dataframe tbody tr th:only-of-type {\n",
       "        vertical-align: middle;\n",
       "    }\n",
       "\n",
       "    .dataframe tbody tr th {\n",
       "        vertical-align: top;\n",
       "    }\n",
       "\n",
       "    .dataframe thead th {\n",
       "        text-align: right;\n",
       "    }\n",
       "</style>\n",
       "<table border=\"1\" class=\"dataframe\">\n",
       "  <thead>\n",
       "    <tr style=\"text-align: right;\">\n",
       "      <th></th>\n",
       "      <th>original_title</th>\n",
       "      <th>imdb_id</th>\n",
       "    </tr>\n",
       "  </thead>\n",
       "  <tbody>\n",
       "    <tr>\n",
       "      <th>723</th>\n",
       "      <td>Pirates of the Caribbean: On Stranger Tides</td>\n",
       "      <td>tt1298650</td>\n",
       "    </tr>\n",
       "  </tbody>\n",
       "</table>\n",
       "</div>"
      ],
      "text/plain": [
       "                                  original_title    imdb_id\n",
       "723  Pirates of the Caribbean: On Stranger Tides  tt1298650"
      ]
     },
     "execution_count": 54,
     "metadata": {},
     "output_type": "execute_result"
    }
   ],
   "source": [
    "# тут пишем ваш код для решения данного вопроса:\n",
    "answer_1 = data[data.budget == data.budget.max()][['original_title', 'imdb_id']]\n",
    "answer_1"
   ]
  },
  {
   "cell_type": "markdown",
   "metadata": {
    "colab_type": "text",
    "id": "FNRbbI3vVp-c"
   },
   "source": [
    "# 2. Какой из фильмов самый длительный (в минутах)?"
   ]
  },
  {
   "cell_type": "code",
   "execution_count": 9,
   "metadata": {
    "colab": {},
    "colab_type": "code",
    "id": "vHAoEXNTVp-d"
   },
   "outputs": [],
   "source": [
    "answers['2'] = '1157. Gods and Generals (tt0279111)'"
   ]
  },
  {
   "cell_type": "code",
   "execution_count": 55,
   "metadata": {
    "colab": {},
    "colab_type": "code",
    "id": "ot-VX2XrVp-g"
   },
   "outputs": [
    {
     "data": {
      "text/html": [
       "<div>\n",
       "<style scoped>\n",
       "    .dataframe tbody tr th:only-of-type {\n",
       "        vertical-align: middle;\n",
       "    }\n",
       "\n",
       "    .dataframe tbody tr th {\n",
       "        vertical-align: top;\n",
       "    }\n",
       "\n",
       "    .dataframe thead th {\n",
       "        text-align: right;\n",
       "    }\n",
       "</style>\n",
       "<table border=\"1\" class=\"dataframe\">\n",
       "  <thead>\n",
       "    <tr style=\"text-align: right;\">\n",
       "      <th></th>\n",
       "      <th>original_title</th>\n",
       "      <th>imdb_id</th>\n",
       "    </tr>\n",
       "  </thead>\n",
       "  <tbody>\n",
       "    <tr>\n",
       "      <th>1157</th>\n",
       "      <td>Gods and Generals</td>\n",
       "      <td>tt0279111</td>\n",
       "    </tr>\n",
       "  </tbody>\n",
       "</table>\n",
       "</div>"
      ],
      "text/plain": [
       "         original_title    imdb_id\n",
       "1157  Gods and Generals  tt0279111"
      ]
     },
     "execution_count": 55,
     "metadata": {},
     "output_type": "execute_result"
    }
   ],
   "source": [
    "answer_2 = data[data.runtime == data.runtime.max()][['original_title', 'imdb_id']]\n",
    "answer_2"
   ]
  },
  {
   "cell_type": "markdown",
   "metadata": {
    "colab_type": "text",
    "id": "bapLlpW8Vp-k"
   },
   "source": [
    "# 3. Какой из фильмов самый короткий (в минутах)?\n",
    "\n",
    "\n",
    "\n"
   ]
  },
  {
   "cell_type": "code",
   "execution_count": 56,
   "metadata": {
    "colab": {},
    "colab_type": "code",
    "id": "YBxaSHuAVp-l"
   },
   "outputs": [
    {
     "data": {
      "text/html": [
       "<div>\n",
       "<style scoped>\n",
       "    .dataframe tbody tr th:only-of-type {\n",
       "        vertical-align: middle;\n",
       "    }\n",
       "\n",
       "    .dataframe tbody tr th {\n",
       "        vertical-align: top;\n",
       "    }\n",
       "\n",
       "    .dataframe thead th {\n",
       "        text-align: right;\n",
       "    }\n",
       "</style>\n",
       "<table border=\"1\" class=\"dataframe\">\n",
       "  <thead>\n",
       "    <tr style=\"text-align: right;\">\n",
       "      <th></th>\n",
       "      <th>original_title</th>\n",
       "      <th>imdb_id</th>\n",
       "    </tr>\n",
       "  </thead>\n",
       "  <tbody>\n",
       "    <tr>\n",
       "      <th>768</th>\n",
       "      <td>Winnie the Pooh</td>\n",
       "      <td>tt1449283</td>\n",
       "    </tr>\n",
       "  </tbody>\n",
       "</table>\n",
       "</div>"
      ],
      "text/plain": [
       "      original_title    imdb_id\n",
       "768  Winnie the Pooh  tt1449283"
      ]
     },
     "execution_count": 56,
     "metadata": {},
     "output_type": "execute_result"
    }
   ],
   "source": [
    "answer_3 = data[data.runtime == data.runtime.min()][['original_title', 'imdb_id']]\n",
    "answer_3"
   ]
  },
  {
   "cell_type": "code",
   "execution_count": 11,
   "metadata": {},
   "outputs": [],
   "source": [
    "answers['3'] = '768. Winnie the Pooh (tt1449283)'"
   ]
  },
  {
   "cell_type": "markdown",
   "metadata": {
    "colab_type": "text",
    "id": "TfQbxbfNVp-p"
   },
   "source": [
    "# 4. Какова средняя длительность фильмов?\n"
   ]
  },
  {
   "cell_type": "code",
   "execution_count": 57,
   "metadata": {
    "colab": {},
    "colab_type": "code",
    "id": "5K6dKZYVVp-q"
   },
   "outputs": [
    {
     "data": {
      "text/plain": [
       "110"
      ]
     },
     "execution_count": 57,
     "metadata": {},
     "output_type": "execute_result"
    }
   ],
   "source": [
    "round(data.runtime.mean())"
   ]
  },
  {
   "cell_type": "code",
   "execution_count": 13,
   "metadata": {},
   "outputs": [],
   "source": [
    "answers['4'] = '110'"
   ]
  },
  {
   "cell_type": "markdown",
   "metadata": {
    "colab_type": "text",
    "id": "r5TvbnT_Vp-u"
   },
   "source": [
    "# 5. Каково медианное значение длительности фильмов? "
   ]
  },
  {
   "cell_type": "code",
   "execution_count": 58,
   "metadata": {
    "colab": {},
    "colab_type": "code",
    "id": "iBROplKnVp-v"
   },
   "outputs": [
    {
     "name": "stdout",
     "output_type": "stream",
     "text": [
      "107.0\n"
     ]
    }
   ],
   "source": [
    "answer_5 = data.runtime.sort_values()\n",
    "print(answer_5.median(axis=0))"
   ]
  },
  {
   "cell_type": "code",
   "execution_count": 15,
   "metadata": {},
   "outputs": [],
   "source": [
    "answers['5'] = '107'"
   ]
  },
  {
   "cell_type": "markdown",
   "metadata": {
    "colab_type": "text",
    "id": "39P-deDSVp-y"
   },
   "source": [
    "# 6. Какой самый прибыльный фильм?\n",
    "#### Внимание! Здесь и далее под «прибылью» или «убытками» понимается разность между сборами и бюджетом фильма. (прибыль = сборы - бюджет) в нашем датасете это будет (profit = revenue - budget) "
   ]
  },
  {
   "cell_type": "code",
   "execution_count": 59,
   "metadata": {
    "colab": {},
    "colab_type": "code",
    "id": "UYZh4T9WVp-y"
   },
   "outputs": [
    {
     "data": {
      "text/html": [
       "<div>\n",
       "<style scoped>\n",
       "    .dataframe tbody tr th:only-of-type {\n",
       "        vertical-align: middle;\n",
       "    }\n",
       "\n",
       "    .dataframe tbody tr th {\n",
       "        vertical-align: top;\n",
       "    }\n",
       "\n",
       "    .dataframe thead th {\n",
       "        text-align: right;\n",
       "    }\n",
       "</style>\n",
       "<table border=\"1\" class=\"dataframe\">\n",
       "  <thead>\n",
       "    <tr style=\"text-align: right;\">\n",
       "      <th></th>\n",
       "      <th>original_title</th>\n",
       "      <th>imdb_id</th>\n",
       "    </tr>\n",
       "  </thead>\n",
       "  <tbody>\n",
       "    <tr>\n",
       "      <th>239</th>\n",
       "      <td>Avatar</td>\n",
       "      <td>tt0499549</td>\n",
       "    </tr>\n",
       "  </tbody>\n",
       "</table>\n",
       "</div>"
      ],
      "text/plain": [
       "    original_title    imdb_id\n",
       "239         Avatar  tt0499549"
      ]
     },
     "execution_count": 59,
     "metadata": {},
     "output_type": "execute_result"
    }
   ],
   "source": [
    "answer_6 = data[data.profit == data.profit.max()][['original_title', 'imdb_id']]\n",
    "answer_6"
   ]
  },
  {
   "cell_type": "code",
   "execution_count": 17,
   "metadata": {},
   "outputs": [],
   "source": [
    "answers['6'] = '239. Avatar (tt0499549)'"
   ]
  },
  {
   "cell_type": "markdown",
   "metadata": {
    "colab_type": "text",
    "id": "M99JmIX4Vp-2"
   },
   "source": [
    "# 7. Какой фильм самый убыточный? "
   ]
  },
  {
   "cell_type": "code",
   "execution_count": 60,
   "metadata": {
    "colab": {},
    "colab_type": "code",
    "id": "w-D2m4XPVp-3"
   },
   "outputs": [
    {
     "data": {
      "text/html": [
       "<div>\n",
       "<style scoped>\n",
       "    .dataframe tbody tr th:only-of-type {\n",
       "        vertical-align: middle;\n",
       "    }\n",
       "\n",
       "    .dataframe tbody tr th {\n",
       "        vertical-align: top;\n",
       "    }\n",
       "\n",
       "    .dataframe thead th {\n",
       "        text-align: right;\n",
       "    }\n",
       "</style>\n",
       "<table border=\"1\" class=\"dataframe\">\n",
       "  <thead>\n",
       "    <tr style=\"text-align: right;\">\n",
       "      <th></th>\n",
       "      <th>original_title</th>\n",
       "      <th>imdb_id</th>\n",
       "    </tr>\n",
       "  </thead>\n",
       "  <tbody>\n",
       "    <tr>\n",
       "      <th>1245</th>\n",
       "      <td>The Lone Ranger</td>\n",
       "      <td>tt1210819</td>\n",
       "    </tr>\n",
       "  </tbody>\n",
       "</table>\n",
       "</div>"
      ],
      "text/plain": [
       "       original_title    imdb_id\n",
       "1245  The Lone Ranger  tt1210819"
      ]
     },
     "execution_count": 60,
     "metadata": {},
     "output_type": "execute_result"
    }
   ],
   "source": [
    "answer_7 = data[data.profit == data.profit.min()][['original_title', 'imdb_id']]\n",
    "answer_7"
   ]
  },
  {
   "cell_type": "code",
   "execution_count": 19,
   "metadata": {},
   "outputs": [],
   "source": [
    "answers['7'] = '1245. The Lone Ranger (tt1210819)'"
   ]
  },
  {
   "cell_type": "markdown",
   "metadata": {
    "colab_type": "text",
    "id": "wEOM5ERVVp-6"
   },
   "source": [
    "# 8. У скольких фильмов из датасета объем сборов оказался выше бюджета?"
   ]
  },
  {
   "cell_type": "code",
   "execution_count": 61,
   "metadata": {
    "colab": {},
    "colab_type": "code",
    "id": "y00_7HD6Vp-7"
   },
   "outputs": [
    {
     "data": {
      "text/plain": [
       "1478"
      ]
     },
     "execution_count": 61,
     "metadata": {},
     "output_type": "execute_result"
    }
   ],
   "source": [
    "data[data.profit > 0]['imdb_id'].nunique()"
   ]
  },
  {
   "cell_type": "code",
   "execution_count": 21,
   "metadata": {},
   "outputs": [],
   "source": [
    "answers['8'] = '1478'"
   ]
  },
  {
   "cell_type": "markdown",
   "metadata": {
    "colab_type": "text",
    "id": "xhpspA9KVp_A"
   },
   "source": [
    "# 9. Какой фильм оказался самым кассовым в 2008 году?"
   ]
  },
  {
   "cell_type": "code",
   "execution_count": 62,
   "metadata": {
    "colab": {},
    "colab_type": "code",
    "id": "MoUyQr9RVp_B"
   },
   "outputs": [
    {
     "data": {
      "text/html": [
       "<div>\n",
       "<style scoped>\n",
       "    .dataframe tbody tr th:only-of-type {\n",
       "        vertical-align: middle;\n",
       "    }\n",
       "\n",
       "    .dataframe tbody tr th {\n",
       "        vertical-align: top;\n",
       "    }\n",
       "\n",
       "    .dataframe thead th {\n",
       "        text-align: right;\n",
       "    }\n",
       "</style>\n",
       "<table border=\"1\" class=\"dataframe\">\n",
       "  <thead>\n",
       "    <tr style=\"text-align: right;\">\n",
       "      <th></th>\n",
       "      <th>original_title</th>\n",
       "      <th>imdb_id</th>\n",
       "    </tr>\n",
       "  </thead>\n",
       "  <tbody>\n",
       "    <tr>\n",
       "      <th>599</th>\n",
       "      <td>The Dark Knight</td>\n",
       "      <td>tt0468569</td>\n",
       "    </tr>\n",
       "  </tbody>\n",
       "</table>\n",
       "</div>"
      ],
      "text/plain": [
       "      original_title    imdb_id\n",
       "599  The Dark Knight  tt0468569"
      ]
     },
     "execution_count": 62,
     "metadata": {},
     "output_type": "execute_result"
    }
   ],
   "source": [
    "answer_9 = data[data.release_year == 2008]['profit'].max()\n",
    "data[data.profit == answer_9][['original_title', 'imdb_id']]"
   ]
  },
  {
   "cell_type": "code",
   "execution_count": 23,
   "metadata": {},
   "outputs": [],
   "source": [
    "answers['9'] = '599. The Dark Knight (tt0468569)'"
   ]
  },
  {
   "cell_type": "markdown",
   "metadata": {
    "colab_type": "text",
    "id": "Zi4hDKidVp_F"
   },
   "source": [
    "# 10. Самый убыточный фильм за период с 2012 по 2014 г. (включительно)?\n"
   ]
  },
  {
   "cell_type": "code",
   "execution_count": 63,
   "metadata": {
    "colab": {},
    "colab_type": "code",
    "id": "XqyRmufJVp_F"
   },
   "outputs": [
    {
     "data": {
      "text/html": [
       "<div>\n",
       "<style scoped>\n",
       "    .dataframe tbody tr th:only-of-type {\n",
       "        vertical-align: middle;\n",
       "    }\n",
       "\n",
       "    .dataframe tbody tr th {\n",
       "        vertical-align: top;\n",
       "    }\n",
       "\n",
       "    .dataframe thead th {\n",
       "        text-align: right;\n",
       "    }\n",
       "</style>\n",
       "<table border=\"1\" class=\"dataframe\">\n",
       "  <thead>\n",
       "    <tr style=\"text-align: right;\">\n",
       "      <th></th>\n",
       "      <th>original_title</th>\n",
       "      <th>imdb_id</th>\n",
       "    </tr>\n",
       "  </thead>\n",
       "  <tbody>\n",
       "    <tr>\n",
       "      <th>1245</th>\n",
       "      <td>The Lone Ranger</td>\n",
       "      <td>tt1210819</td>\n",
       "    </tr>\n",
       "  </tbody>\n",
       "</table>\n",
       "</div>"
      ],
      "text/plain": [
       "       original_title    imdb_id\n",
       "1245  The Lone Ranger  tt1210819"
      ]
     },
     "execution_count": 63,
     "metadata": {},
     "output_type": "execute_result"
    }
   ],
   "source": [
    "answer_10 = data.query(\"release_year >= 2012 & release_year <= 2014\")['profit'].min()\n",
    "data[data.profit == answer_10][['original_title', 'imdb_id']]"
   ]
  },
  {
   "cell_type": "code",
   "execution_count": 25,
   "metadata": {},
   "outputs": [],
   "source": [
    "answers['10'] = '1245. The Lone Ranger (tt1210819)'"
   ]
  },
  {
   "cell_type": "markdown",
   "metadata": {
    "colab_type": "text",
    "id": "EA7Sa9dkVp_I"
   },
   "source": [
    "# 11. Какого жанра фильмов больше всего?"
   ]
  },
  {
   "cell_type": "code",
   "execution_count": 64,
   "metadata": {
    "colab": {},
    "colab_type": "code",
    "id": "zsJAwJ8QVp_J"
   },
   "outputs": [
    {
     "data": {
      "text/plain": [
       "Drama    782\n",
       "Name: genres, dtype: int64"
      ]
     },
     "execution_count": 64,
     "metadata": {},
     "output_type": "execute_result"
    }
   ],
   "source": [
    "data_11 = data.explode('genres')\n",
    "data_11['genres'].value_counts().head(1)"
   ]
  },
  {
   "cell_type": "code",
   "execution_count": 27,
   "metadata": {
    "colab": {},
    "colab_type": "code",
    "id": "otO3SbrSVp_N"
   },
   "outputs": [],
   "source": [
    "answers['11'] = 'Drama'"
   ]
  },
  {
   "cell_type": "markdown",
   "metadata": {
    "colab_type": "text",
    "id": "T9_bPWpkVp_Q"
   },
   "source": [
    "# 12. Фильмы какого жанра чаще всего становятся прибыльными? "
   ]
  },
  {
   "cell_type": "code",
   "execution_count": 65,
   "metadata": {
    "colab": {},
    "colab_type": "code",
    "id": "Tmt8MaK1Vp_R"
   },
   "outputs": [
    {
     "data": {
      "text/plain": [
       "Drama    560\n",
       "Name: genres, dtype: int64"
      ]
     },
     "execution_count": 65,
     "metadata": {},
     "output_type": "execute_result"
    }
   ],
   "source": [
    "#Используем датасет со \"взорванной\" колонкой жанры из 11 задачи\n",
    "data_11[data_11.profit > 0]['genres'].value_counts().head(1)"
   ]
  },
  {
   "cell_type": "code",
   "execution_count": 29,
   "metadata": {},
   "outputs": [],
   "source": [
    "answers['12'] = 'Drama'"
   ]
  },
  {
   "cell_type": "markdown",
   "metadata": {
    "colab_type": "text",
    "id": "0F23bgsDVp_U"
   },
   "source": [
    "# 13. У какого режиссера самые большие суммарные кассовые сбооры?"
   ]
  },
  {
   "cell_type": "code",
   "execution_count": 66,
   "metadata": {
    "colab": {},
    "colab_type": "code",
    "id": "K6Z3J8ygVp_X"
   },
   "outputs": [
    {
     "name": "stdout",
     "output_type": "stream",
     "text": [
      "director\n",
      "Peter Jackson    6490593685\n",
      "Name: revenue, dtype: int64\n"
     ]
    }
   ],
   "source": [
    "data_13 = data.explode('director')\n",
    "answer_13 = data_13.groupby(['director'])['revenue'].sum().sort_values(ascending=False)\n",
    "print(answer_13.head(1))"
   ]
  },
  {
   "cell_type": "code",
   "execution_count": 31,
   "metadata": {},
   "outputs": [],
   "source": [
    "answers['13'] = 'Peter Jackson'"
   ]
  },
  {
   "cell_type": "markdown",
   "metadata": {
    "colab_type": "text",
    "id": "PsYC9FgRVp_a"
   },
   "source": [
    "# 14. Какой режисер снял больше всего фильмов в стиле Action?"
   ]
  },
  {
   "cell_type": "code",
   "execution_count": 67,
   "metadata": {
    "colab": {},
    "colab_type": "code",
    "id": "wd2M-wHeVp_b"
   },
   "outputs": [
    {
     "data": {
      "text/plain": [
       "[('Robert Rodriguez', 9)]"
      ]
     },
     "execution_count": 67,
     "metadata": {},
     "output_type": "execute_result"
    }
   ],
   "source": [
    "#Заново прочтем файл т.к. мы изменяли его в предобработке, а в данном случае необходим оригинал\n",
    "data_14 = pd.read_csv('movie_bd_v5.csv')\n",
    "action_dir = data_14[data_14['genres'].str.contains('Action')]\n",
    "Counter(action_dir.director.str.cat(sep='|').split('|')).most_common(1)"
   ]
  },
  {
   "cell_type": "code",
   "execution_count": 33,
   "metadata": {},
   "outputs": [],
   "source": [
    "answers['14'] = 'Robert Rodriguez'"
   ]
  },
  {
   "cell_type": "markdown",
   "metadata": {
    "colab_type": "text",
    "id": "PQ0KciD7Vp_f"
   },
   "source": [
    "# 15. Фильмы с каким актером принесли самые высокие кассовые сборы в 2012 году? "
   ]
  },
  {
   "cell_type": "code",
   "execution_count": 68,
   "metadata": {
    "colab": {},
    "colab_type": "code",
    "id": "aga62oeKVp_g"
   },
   "outputs": [
    {
     "data": {
      "text/plain": [
       "cast\n",
       "Chris Hemsworth    2027450773\n",
       "Name: revenue, dtype: int64"
      ]
     },
     "execution_count": 68,
     "metadata": {},
     "output_type": "execute_result"
    }
   ],
   "source": [
    "data_15 = data.explode('cast')\n",
    "data_15[data_15.release_year == 2012].groupby(['cast'])['revenue'].sum().sort_values(ascending=False).head(1)"
   ]
  },
  {
   "cell_type": "code",
   "execution_count": 35,
   "metadata": {},
   "outputs": [],
   "source": [
    "answers['15'] = 'Chris Hemsworth'"
   ]
  },
  {
   "cell_type": "markdown",
   "metadata": {
    "colab_type": "text",
    "id": "mWHyyL7QVp_j"
   },
   "source": [
    "# 16. Какой актер снялся в большем количестве высокобюджетных фильмов?"
   ]
  },
  {
   "cell_type": "code",
   "execution_count": 69,
   "metadata": {
    "colab": {},
    "colab_type": "code",
    "id": "qQtmHKTFVp_k"
   },
   "outputs": [
    {
     "data": {
      "text/plain": [
       "cast\n",
       "Matt Damon    18\n",
       "Name: budget, dtype: int64"
      ]
     },
     "execution_count": 69,
     "metadata": {},
     "output_type": "execute_result"
    }
   ],
   "source": [
    "#Используем датасет со \"взорванной\" колонкой cast из 15 задачи\n",
    "data_15[data_15.budget > data_15.budget.mean()].groupby(['cast'])['budget'].count().sort_values(ascending=False).head(1)"
   ]
  },
  {
   "cell_type": "code",
   "execution_count": 37,
   "metadata": {},
   "outputs": [],
   "source": [
    "answers['16'] = 'Matt Damon'"
   ]
  },
  {
   "cell_type": "markdown",
   "metadata": {
    "colab_type": "text",
    "id": "NIh6AaW5Vp_n"
   },
   "source": [
    "# 17. В фильмах какого жанра больше всего снимался Nicolas Cage? "
   ]
  },
  {
   "cell_type": "code",
   "execution_count": 70,
   "metadata": {
    "colab": {},
    "colab_type": "code",
    "id": "H74SJDIBVp_n"
   },
   "outputs": [
    {
     "data": {
      "text/plain": [
       "[('Action', 17)]"
      ]
     },
     "execution_count": 70,
     "metadata": {},
     "output_type": "execute_result"
    }
   ],
   "source": [
    "#Заново прочтем файл т.к. мы изменяли его в предобработке, а в данном случае необходим оригинал\n",
    "data_17 = pd.read_csv('movie_bd_v5.csv')\n",
    "Nicolas_Cage_filtred = data_17[data_17['cast'].str.contains('Nicolas Cage')]\n",
    "Counter(Nicolas_Cage_filtred.genres.str.cat(sep='|').split('|')).most_common(1)"
   ]
  },
  {
   "cell_type": "code",
   "execution_count": 39,
   "metadata": {},
   "outputs": [],
   "source": [
    "answers['17'] = 'Action'"
   ]
  },
  {
   "cell_type": "markdown",
   "metadata": {
    "colab_type": "text",
    "id": "RqOmPRfWVp_q"
   },
   "source": [
    "# 18. Самый убыточный фильм от Paramount Pictures"
   ]
  },
  {
   "cell_type": "code",
   "execution_count": 71,
   "metadata": {
    "colab": {},
    "colab_type": "code",
    "id": "9E_B0Y96Vp_r"
   },
   "outputs": [
    {
     "data": {
      "text/plain": [
       "925    K-19: The Widowmaker\n",
       "Name: original_title, dtype: object"
      ]
     },
     "execution_count": 71,
     "metadata": {},
     "output_type": "execute_result"
    }
   ],
   "source": [
    "data_18 = data.explode('production_companies')\n",
    "answer_18 = data_18[data_18.production_companies == 'Paramount Pictures']['profit'].min()\n",
    "data_18[(data_18.production_companies == 'Paramount Pictures') & (data_18.profit == answer_18)]['original_title']"
   ]
  },
  {
   "cell_type": "code",
   "execution_count": 41,
   "metadata": {},
   "outputs": [],
   "source": [
    "answers['18'] = '925. K-19: The Widowmaker (tt0267626)'"
   ]
  },
  {
   "cell_type": "markdown",
   "metadata": {
    "colab_type": "text",
    "id": "vS8Ur6ddVp_u"
   },
   "source": [
    "# 19. Какой год стал самым успешным по суммарным кассовым сборам?"
   ]
  },
  {
   "cell_type": "code",
   "execution_count": 72,
   "metadata": {
    "colab": {},
    "colab_type": "code",
    "id": "Dnbt4GdIVp_v"
   },
   "outputs": [
    {
     "name": "stdout",
     "output_type": "stream",
     "text": [
      "release_year\n",
      "2015    25449202382\n",
      "Name: revenue, dtype: int64\n"
     ]
    }
   ],
   "source": [
    "grouped_df = data.groupby(['release_year'])['revenue'].sum().sort_values(ascending=False)\n",
    "print(grouped_df.head(1))"
   ]
  },
  {
   "cell_type": "code",
   "execution_count": 43,
   "metadata": {},
   "outputs": [],
   "source": [
    "answers['19'] = '2015'"
   ]
  },
  {
   "cell_type": "markdown",
   "metadata": {
    "colab_type": "text",
    "id": "JAzJh4QAVp_z"
   },
   "source": [
    "# 20. Какой самый прибыльный год для студии Warner Bros?"
   ]
  },
  {
   "cell_type": "code",
   "execution_count": 73,
   "metadata": {
    "colab": {},
    "colab_type": "code",
    "id": "wgVu02DEVp_0"
   },
   "outputs": [
    {
     "name": "stdout",
     "output_type": "stream",
     "text": [
      "release_year\n",
      "2014    2295464519\n",
      "Name: profit, dtype: int64\n"
     ]
    }
   ],
   "source": [
    "data_20 = pd.read_csv('movie_bd_v5.csv')\n",
    "data_20['profit'] = data_20['revenue'] - data_20['budget']\n",
    "Warner_Bros_filtred = data_20[data_20['production_companies'].str.contains('Warner Bros')]\n",
    "Warner_Bros_grouped = Warner_Bros_filtred.groupby(['release_year'])['profit'].sum().sort_values(ascending=False)\n",
    "print(Warner_Bros_grouped.head(1))"
   ]
  },
  {
   "cell_type": "code",
   "execution_count": 45,
   "metadata": {},
   "outputs": [],
   "source": [
    "answers['20'] = '2014'"
   ]
  },
  {
   "cell_type": "markdown",
   "metadata": {
    "colab_type": "text",
    "id": "8Im1S2HRVp_4"
   },
   "source": [
    "# 21. В каком месяце за все годы суммарно вышло больше всего фильмов?"
   ]
  },
  {
   "cell_type": "code",
   "execution_count": 74,
   "metadata": {
    "colab": {},
    "colab_type": "code",
    "id": "lev6TH7gVp_4"
   },
   "outputs": [
    {
     "data": {
      "text/plain": [
       "release_date\n",
       "9    227\n",
       "Name: original_title, dtype: int64"
      ]
     },
     "execution_count": 74,
     "metadata": {},
     "output_type": "execute_result"
    }
   ],
   "source": [
    "import datetime as dt\n",
    "answer_21 = data.copy()\n",
    "answer_21.loc[:, 'release_date'] = answer_21.loc[:, 'release_date'].dt.month\n",
    "answer_21.groupby(['release_date'])['original_title'].count().sort_values(ascending=False).head(1)"
   ]
  },
  {
   "cell_type": "code",
   "execution_count": 47,
   "metadata": {},
   "outputs": [],
   "source": [
    "answers['21'] = 'Сентябрь'"
   ]
  },
  {
   "cell_type": "markdown",
   "metadata": {
    "colab_type": "text",
    "id": "uAJsZ_NeVp_7"
   },
   "source": [
    "# 22. Сколько суммарно вышло фильмов летом? (за июнь, июль, август)"
   ]
  },
  {
   "cell_type": "code",
   "execution_count": 75,
   "metadata": {
    "colab": {},
    "colab_type": "code",
    "id": "Aa-hEREoVp_8"
   },
   "outputs": [
    {
     "data": {
      "text/plain": [
       "450"
      ]
     },
     "execution_count": 75,
     "metadata": {},
     "output_type": "execute_result"
    }
   ],
   "source": [
    "answer_22 = answer_21[(answer_21.release_date == 6) | (answer_21.release_date == 7) | (answer_21.release_date == 8)]\n",
    "answer_22['original_title'].count()"
   ]
  },
  {
   "cell_type": "code",
   "execution_count": 49,
   "metadata": {},
   "outputs": [],
   "source": [
    "answers['22'] = '450'"
   ]
  },
  {
   "cell_type": "markdown",
   "metadata": {
    "colab_type": "text",
    "id": "G94ppOY1VqAA"
   },
   "source": [
    "# 23. Для какого режиссера зима – самое продуктивное время года? "
   ]
  },
  {
   "cell_type": "code",
   "execution_count": 76,
   "metadata": {
    "colab": {},
    "colab_type": "code",
    "id": "RhNTsamuVqAB"
   },
   "outputs": [],
   "source": [
    "data_23 = data.explode('director')\n",
    "data_23.loc[:, 'release_date'] = data_23.loc[:, 'release_date'].dt.month"
   ]
  },
  {
   "cell_type": "code",
   "execution_count": 77,
   "metadata": {},
   "outputs": [],
   "source": [
    "answer_23 = data_23[(data_23.release_date == 12) | (data_23.release_date == 1) | (data_23.release_date == 2)]"
   ]
  },
  {
   "cell_type": "code",
   "execution_count": 78,
   "metadata": {},
   "outputs": [
    {
     "data": {
      "text/plain": [
       "director\n",
       "Peter Jackson    7\n",
       "Name: original_title, dtype: int64"
      ]
     },
     "execution_count": 78,
     "metadata": {},
     "output_type": "execute_result"
    }
   ],
   "source": [
    "answer_23.groupby(['director'])['original_title'].count().sort_values(ascending=False).head(1)"
   ]
  },
  {
   "cell_type": "code",
   "execution_count": 79,
   "metadata": {},
   "outputs": [],
   "source": [
    "answers['23'] = 'Peter Jackson'"
   ]
  },
  {
   "cell_type": "markdown",
   "metadata": {
    "colab_type": "text",
    "id": "RBo0JVjVVqAF"
   },
   "source": [
    "# 24. Какая студия дает самые длинные названия своим фильмам по количеству символов?"
   ]
  },
  {
   "cell_type": "code",
   "execution_count": 80,
   "metadata": {
    "colab": {},
    "colab_type": "code",
    "id": "QRGS8L0iVqAG"
   },
   "outputs": [],
   "source": [
    "data_24 = data.explode('production_companies')\n",
    "data_24['Count_title'] = data_24.original_title.apply(lambda x: len(x))"
   ]
  },
  {
   "cell_type": "code",
   "execution_count": 81,
   "metadata": {},
   "outputs": [
    {
     "data": {
      "text/plain": [
       "production_companies\n",
       "Four By Two Productions    83.0\n",
       "Name: Count_title, dtype: float64"
      ]
     },
     "execution_count": 81,
     "metadata": {},
     "output_type": "execute_result"
    }
   ],
   "source": [
    "data_24.groupby(['production_companies'])['Count_title'].mean().sort_values(ascending=False).head(1)"
   ]
  },
  {
   "cell_type": "code",
   "execution_count": 82,
   "metadata": {},
   "outputs": [],
   "source": [
    "answers['24'] = 'Four By Two Productions'"
   ]
  },
  {
   "cell_type": "markdown",
   "metadata": {
    "colab_type": "text",
    "id": "9G0hbvR7VqAK"
   },
   "source": [
    "# 25. Описание фильмов какой студии в среднем самые длинные по количеству слов?"
   ]
  },
  {
   "cell_type": "code",
   "execution_count": 83,
   "metadata": {
    "colab": {},
    "colab_type": "code",
    "id": "Ge2GsLNxVqAK"
   },
   "outputs": [
    {
     "data": {
      "text/plain": [
       "production_companies\n",
       "Midnight Picture Show    175.0\n",
       "Name: Count_overview, dtype: float64"
      ]
     },
     "execution_count": 83,
     "metadata": {},
     "output_type": "execute_result"
    }
   ],
   "source": [
    "data_24['Count_overview'] = data_24.overview.apply(lambda x: len(x))\n",
    "data_24.groupby(['production_companies'])['Count_overview'].mean().sort_values(ascending=False).head(1)"
   ]
  },
  {
   "cell_type": "code",
   "execution_count": 84,
   "metadata": {},
   "outputs": [],
   "source": [
    "answers['25'] = 'Midnight Picture Show'"
   ]
  },
  {
   "cell_type": "markdown",
   "metadata": {
    "colab_type": "text",
    "id": "FJ1AFt90VqAP"
   },
   "source": [
    "# 26. Какие фильмы входят в 1 процент лучших по рейтингу? \n",
    "по vote_average"
   ]
  },
  {
   "cell_type": "code",
   "execution_count": 85,
   "metadata": {
    "colab": {},
    "colab_type": "code",
    "id": "8qmJVq4CVqAQ"
   },
   "outputs": [
    {
     "data": {
      "text/plain": [
       "9                                          Inside Out\n",
       "34                                               Room\n",
       "118                                      Interstellar\n",
       "119                           Guardians of the Galaxy\n",
       "125                                The Imitation Game\n",
       "128                                         Gone Girl\n",
       "138                          The Grand Budapest Hotel\n",
       "370                                         Inception\n",
       "599                                   The Dark Knight\n",
       "872                                       The Pianist\n",
       "1081    The Lord of the Rings: The Return of the King\n",
       "1183                          The Wolf of Wall Street\n",
       "1191                                 12 Years a Slave\n",
       "1800                                          Memento\n",
       "Name: original_title, dtype: object"
      ]
     },
     "execution_count": 85,
     "metadata": {},
     "output_type": "execute_result"
    }
   ],
   "source": [
    "a = np.array(data['vote_average'])\n",
    "b = np.quantile(a, 0.99)\n",
    "answer_26 = data[data.vote_average > b]\n",
    "answer_26['original_title']"
   ]
  },
  {
   "cell_type": "code",
   "execution_count": 86,
   "metadata": {},
   "outputs": [],
   "source": [
    "answers['26'] = 'Inside Out, Room, Interstellar, Guardians of the Galaxy, The Imitation Game, Gone Girl, The Grand Budapest Hotel, Inception, The Dark Knight, The Pianist, The Lord of the Rings: The Return of the King, The Wolf of Wall Street, 12 Years a Slave, Memento'"
   ]
  },
  {
   "cell_type": "markdown",
   "metadata": {
    "colab_type": "text",
    "id": "MdXsUXbCVqAV"
   },
   "source": [
    "# 27. Какие актеры чаще всего снимаются в одном фильме вместе?\n"
   ]
  },
  {
   "cell_type": "code",
   "execution_count": 87,
   "metadata": {},
   "outputs": [],
   "source": [
    "from itertools import combinations"
   ]
  },
  {
   "cell_type": "code",
   "execution_count": 88,
   "metadata": {},
   "outputs": [],
   "source": [
    "actors_data27 = pd.read_csv('movie_bd_v5.csv')\n",
    "pair_dict27 = {}\n",
    "for cast in actors_data27.cast:\n",
    "    cast = cast.split('|')\n",
    "    pairs = combinations(cast, 2)\n",
    "    pairs = ['|'.join(i) for i in pairs]\n",
    "    for pair in pairs:\n",
    "        if pair in pair_dict27:\n",
    "            pair_dict27[pair] += 1\n",
    "        else:\n",
    "            pair_dict27[pair] = 1"
   ]
  },
  {
   "cell_type": "code",
   "execution_count": 90,
   "metadata": {},
   "outputs": [
    {
     "data": {
      "text/plain": [
       "OrderedDict([('Daniel Radcliffe|Rupert Grint', 8),\n",
       "             ('Daniel Radcliffe|Emma Watson', 8),\n",
       "             ('Rupert Grint|Emma Watson', 7),\n",
       "             ('Ben Stiller|Owen Wilson', 6),\n",
       "             ('Johnny Depp|Helena Bonham Carter', 6),\n",
       "             ('Adam Sandler|Kevin James', 5),\n",
       "             ('Hugh Jackman|Ian McKellen', 5),\n",
       "             ('Kristen Stewart|Robert Pattinson', 5),\n",
       "             ('Kristen Stewart|Taylor Lautner', 5),\n",
       "             ('Robert Pattinson|Taylor Lautner', 5),\n",
       "             ('Jennifer Lawrence|Josh Hutcherson', 4),\n",
       "             ('Jennifer Lawrence|Liam Hemsworth', 4),\n",
       "             ('Jennifer Lawrence|Woody Harrelson', 4),\n",
       "             ('Josh Hutcherson|Liam Hemsworth', 4),\n",
       "             ('Josh Hutcherson|Woody Harrelson', 4),\n",
       "             ('Liam Hemsworth|Woody Harrelson', 4),\n",
       "             ('Tobin Bell|Costas Mandylor', 4),\n",
       "             ('Tobin Bell|Betsy Russell', 4),\n",
       "             ('Costas Mandylor|Betsy Russell', 4),\n",
       "             ('Vin Diesel|Jordana Brewster', 4),\n",
       "             ('Paul Walker|Jordana Brewster', 4),\n",
       "             ('Mike Myers|Eddie Murphy', 4),\n",
       "             ('Mike Myers|Cameron Diaz', 4),\n",
       "             ('Eddie Murphy|Cameron Diaz', 4),\n",
       "             ('Kristen Stewart|Peter Facinelli', 4),\n",
       "             ('Robert Pattinson|Peter Facinelli', 4),\n",
       "             ('Taylor Lautner|Peter Facinelli', 4),\n",
       "             ('George Clooney|Brad Pitt', 4),\n",
       "             ('Hugh Jackman|Halle Berry', 4),\n",
       "             ('Christian Bale|Michael Caine', 4),\n",
       "             ('Vin Diesel|Paul Walker', 3),\n",
       "             ('Vin Diesel|Michelle Rodriguez', 3),\n",
       "             ('Vin Diesel|Dwayne Johnson', 3),\n",
       "             ('Paul Walker|Michelle Rodriguez', 3),\n",
       "             ('Paul Walker|Dwayne Johnson', 3),\n",
       "             ('Robert Downey Jr.|Mark Ruffalo', 3),\n",
       "             ('Robert Downey Jr.|Scarlett Johansson', 3),\n",
       "             ('Chris Evans|Scarlett Johansson', 3),\n",
       "             ('Liam Neeson|Maggie Grace', 3),\n",
       "             ('Liam Neeson|Famke Janssen', 3),\n",
       "             ('Jennifer Lawrence|Elizabeth Banks', 3),\n",
       "             ('Josh Hutcherson|Elizabeth Banks', 3),\n",
       "             ('Liam Hemsworth|Elizabeth Banks', 3),\n",
       "             ('Woody Harrelson|Elizabeth Banks', 3),\n",
       "             ('Tom Cruise|Ving Rhames', 3),\n",
       "             ('Mark Wahlberg|Giovanni Ribisi', 3),\n",
       "             ('Johnny Depp|Paul Bettany', 3),\n",
       "             ('Adam Sandler|Steve Buscemi', 3),\n",
       "             ('Martin Freeman|Richard Armitage', 3),\n",
       "             ('Ian McKellen|Richard Armitage', 3),\n",
       "             ('Ben Stiller|Robin Williams', 3),\n",
       "             ('Patrick Stewart|Ian McKellen', 3),\n",
       "             ('Sylvester Stallone|Jason Statham', 3),\n",
       "             ('Sylvester Stallone|Arnold Schwarzenegger', 3),\n",
       "             ('Russell Crowe|Jennifer Connelly', 3),\n",
       "             ('Bradley Cooper|Ed Helms', 3),\n",
       "             ('Bradley Cooper|Zach Galifianakis', 3),\n",
       "             ('Bradley Cooper|Justin Bartha', 3),\n",
       "             ('Ed Helms|Zach Galifianakis', 3),\n",
       "             ('Ed Helms|Justin Bartha', 3),\n",
       "             ('Zach Galifianakis|Justin Bartha', 3),\n",
       "             ('Kristen Stewart|Ashley Greene', 3),\n",
       "             ('Robert Pattinson|Ashley Greene', 3),\n",
       "             ('Taylor Lautner|Ashley Greene', 3),\n",
       "             ('Bradley Cooper|Ken Jeong', 3),\n",
       "             ('David Cross|Justin Long', 3),\n",
       "             ('Jason Lee|Justin Long', 3),\n",
       "             ('Paul Rudd|Jason Segel', 3),\n",
       "             ('Shia LaBeouf|Josh Duhamel', 3),\n",
       "             ('Robert Downey Jr.|Gwyneth Paltrow', 3),\n",
       "             ('Daniel Radcliffe|Ralph Fiennes', 3),\n",
       "             ('Emma Watson|Ralph Fiennes', 3),\n",
       "             ('Rupert Grint|Ralph Fiennes', 3),\n",
       "             ('Skandar Keynes|Georgie Henley', 3),\n",
       "             ('Mike Myers|Antonio Banderas', 3),\n",
       "             ('Mike Myers|Julie Andrews', 3),\n",
       "             ('Eddie Murphy|Antonio Banderas', 3),\n",
       "             ('Eddie Murphy|Julie Andrews', 3),\n",
       "             ('Cameron Diaz|Antonio Banderas', 3),\n",
       "             ('Cameron Diaz|Julie Andrews', 3),\n",
       "             ('Steve Carell|Paul Rudd', 3),\n",
       "             ('Elijah Wood|Ian McKellen', 3),\n",
       "             ('Elijah Wood|Viggo Mortensen', 3),\n",
       "             ('Elijah Wood|Liv Tyler', 3),\n",
       "             ('Elijah Wood|Orlando Bloom', 3),\n",
       "             ('Ian McKellen|Viggo Mortensen', 3),\n",
       "             ('Ian McKellen|Liv Tyler', 3),\n",
       "             ('Ian McKellen|Orlando Bloom', 3),\n",
       "             ('Viggo Mortensen|Liv Tyler', 3),\n",
       "             ('Viggo Mortensen|Orlando Bloom', 3),\n",
       "             ('Liv Tyler|Orlando Bloom', 3),\n",
       "             ('George Clooney|Matt Damon', 3),\n",
       "             ('Brad Pitt|Julia Roberts', 3),\n",
       "             ('Jason Biggs|Thomas Ian Nicholas', 3),\n",
       "             ('Jason Biggs|Seann William Scott', 3),\n",
       "             ('Alexa PenaVega|Daryl Sabara', 3),\n",
       "             ('Antonio Banderas|Carla Gugino', 3),\n",
       "             ('Christian Bale|Gary Oldman', 3),\n",
       "             ('Michael Caine|Gary Oldman', 3),\n",
       "             ('Daniel Craig|Judi Dench', 3),\n",
       "             ('Jack Black|Angelina Jolie', 3),\n",
       "             ('Ben Stiller|David Schwimmer', 3),\n",
       "             ('Ben Stiller|Chris Rock', 3),\n",
       "             ('Ron Perlman|John Hurt', 3),\n",
       "             ('Hayden Christensen|Samuel L. Jackson', 3),\n",
       "             ('Jason Statham|FranÃ§ois BerlÃ©and', 3),\n",
       "             ('John Cho|Kal Penn', 3),\n",
       "             ('Johnny Depp|Geoffrey Rush', 3),\n",
       "             ('Johnny Depp|Bill Nighy', 3),\n",
       "             ('Ray Romano|Denis Leary', 3),\n",
       "             ('John Leguizamo|Denis Leary', 3),\n",
       "             ('Tobey Maguire|Kirsten Dunst', 3),\n",
       "             ('Tobey Maguire|James Franco', 3),\n",
       "             ('Kirsten Dunst|James Franco', 3),\n",
       "             ('Tim Allen|Spencer Breslin', 3),\n",
       "             ('Denzel Washington|Kimberly Elise', 3),\n",
       "             ('Ice Cube|Mike Epps', 3),\n",
       "             ('Johnny Depp|Orlando Bloom', 3),\n",
       "             ('Johnny Depp|Keira Knightley', 3),\n",
       "             ('Orlando Bloom|Keira Knightley', 3),\n",
       "             ('Patrick Stewart|Famke Janssen', 3),\n",
       "             ('Hugh Jackman|Famke Janssen', 3),\n",
       "             ('Ian McKellen|Famke Janssen', 3),\n",
       "             ('Halle Berry|Famke Janssen', 3),\n",
       "             ('Owen Wilson|Vince Vaughn', 3),\n",
       "             ('Bruce Willis|Kevin Pollak', 3),\n",
       "             ('Shailene Woodley|Theo James', 2),\n",
       "             ('Shailene Woodley|Kate Winslet', 2),\n",
       "             ('Shailene Woodley|Ansel Elgort', 2),\n",
       "             ('Shailene Woodley|Miles Teller', 2),\n",
       "             ('Theo James|Kate Winslet', 2),\n",
       "             ('Theo James|Miles Teller', 2),\n",
       "             ('Kate Winslet|Miles Teller', 2),\n",
       "             ('Leonardo DiCaprio|Tom Hardy', 2),\n",
       "             ('Daniel Craig|Ralph Fiennes', 2),\n",
       "             ('Robert Downey Jr.|Chris Hemsworth', 2),\n",
       "             ('Robert Downey Jr.|Chris Evans', 2),\n",
       "             ('Chris Hemsworth|Scarlett Johansson', 2),\n",
       "             ('Mark Ruffalo|Scarlett Johansson', 2),\n",
       "             ('Maggie Grace|Famke Janssen', 2),\n",
       "             ('Dwayne Johnson|Carla Gugino', 2),\n",
       "             ('Christian Bale|Melissa Leo', 2),\n",
       "             ('Steve Carell|Ryan Gosling', 2),\n",
       "             ('Tom Cruise|Jeremy Renner', 2),\n",
       "             ('Tom Cruise|Simon Pegg', 2),\n",
       "             ('Jeremy Renner|Simon Pegg', 2),\n",
       "             ('Mark Wahlberg|Seth MacFarlane', 2),\n",
       "             ('Seth MacFarlane|Giovanni Ribisi', 2),\n",
       "             (\"Dylan O'Brien|Kaya Scodelario\", 2),\n",
       "             ('Anna Kendrick|Rebel Wilson', 2),\n",
       "             ('Anna Kendrick|Brittany Snow', 2),\n",
       "             ('Anna Kendrick|Skylar Astin', 2),\n",
       "             ('Liam Neeson|Boyd Holbrook', 2),\n",
       "             ('Edgar RamÃ\\xadrez|Delroy Lindo', 2),\n",
       "             ('Bradley Cooper|Sienna Miller', 2),\n",
       "             ('Miles Teller|Michael B. Jordan', 2),\n",
       "             ('Rose Byrne|Bobby Cannavale', 2),\n",
       "             ('Hugh Jackman|Amanda Seyfried', 2),\n",
       "             ('Joseph Gordon-Levitt|Seth Rogen', 2),\n",
       "             ('Seth Rogen|Lizzy Caplan', 2),\n",
       "             ('Adam Sandler|Andy Samberg', 2),\n",
       "             ('Adam Sandler|Selena Gomez', 2),\n",
       "             ('Will Ferrell|Mark Wahlberg', 2),\n",
       "             ('Kevin James|Raini Rodriguez', 2),\n",
       "             ('Tina Fey|Amy Poehler', 2),\n",
       "             ('Tom Kenny|Bill Fagerbakke', 2),\n",
       "             ('Tom Kenny|Rodger Bumpass', 2),\n",
       "             ('Tom Kenny|Clancy Brown', 2),\n",
       "             ('Tom Kenny|Carolyn Lawrence', 2),\n",
       "             ('Bill Fagerbakke|Carolyn Lawrence', 2),\n",
       "             ('Rodger Bumpass|Carolyn Lawrence', 2),\n",
       "             ('Clancy Brown|Carolyn Lawrence', 2),\n",
       "             ('Chris Evans|Sebastian Stan', 2),\n",
       "             ('Scarlett Johansson|Samuel L. Jackson', 2),\n",
       "             ('Martin Freeman|Ian McKellen', 2),\n",
       "             ('Martin Freeman|Ken Stott', 2),\n",
       "             ('Martin Freeman|Graham McTavish', 2),\n",
       "             ('Ian McKellen|Ken Stott', 2),\n",
       "             ('Ian McKellen|Graham McTavish', 2),\n",
       "             ('Richard Armitage|Ken Stott', 2),\n",
       "             ('Richard Armitage|Graham McTavish', 2),\n",
       "             ('Ken Stott|Graham McTavish', 2),\n",
       "             ('Hugh Jackman|Patrick Stewart', 2),\n",
       "             ('James McAvoy|Patrick Stewart', 2),\n",
       "             ('James McAvoy|Michael Fassbender', 2),\n",
       "             ('Megan Fox|Will Arnett', 2),\n",
       "             ('Mark Wahlberg|Stanley Tucci', 2),\n",
       "             ('Jason Bateman|Jason Sudeikis', 2),\n",
       "             ('Jason Bateman|Charlie Day', 2),\n",
       "             ('Jason Bateman|Jennifer Aniston', 2),\n",
       "             ('Andrew Garfield|Emma Stone', 2),\n",
       "             ('James Franco|Seth Rogen', 2),\n",
       "             ('James Franco|Lizzy Caplan', 2),\n",
       "             ('Jay Baruchel|Gerard Butler', 2),\n",
       "             ('Jay Baruchel|Jonah Hill', 2),\n",
       "             ('Gerard Butler|Jonah Hill', 2),\n",
       "             ('Jason Statham|Arnold Schwarzenegger', 2),\n",
       "             ('Meryl Streep|Emily Blunt', 2),\n",
       "             ('Lena Headey|David Wenham', 2),\n",
       "             ('Jonah Hill|Dave Franco', 2),\n",
       "             ('Channing Tatum|Dave Franco', 2),\n",
       "             ('Ben Whishaw|Michael Gambon', 2),\n",
       "             ('Russell Crowe|Logan Lerman', 2),\n",
       "             ('Zac Efron|Dave Franco', 2),\n",
       "             ('Ryan Guzman|Stephen Boss', 2),\n",
       "             ('Joaquin Phoenix|Reese Witherspoon', 2),\n",
       "             ('Jessica Alba|Josh Brolin', 2),\n",
       "             ('Jessica Alba|Rosario Dawson', 2),\n",
       "             ('Jesse Eisenberg|Anne Hathaway', 2),\n",
       "             ('Jesse Eisenberg|Leslie Mann', 2),\n",
       "             ('Anne Hathaway|Leslie Mann', 2),\n",
       "             ('George Clooney|Bill Murray', 2),\n",
       "             ('George Clooney|John Goodman', 2),\n",
       "             ('Kit Harington|Carrie-Anne Moss', 2),\n",
       "             ('Channing Tatum|Sienna Miller', 2),\n",
       "             ('Zac Efron|Imogen Poots', 2),\n",
       "             ('Michael Ealy|Regina Hall', 2),\n",
       "             ('Morgan Freeman|Ashley Judd', 2),\n",
       "             ('Morgan Freeman|Nathan Gamble', 2),\n",
       "             ('Morgan Freeman|Harry Connick Jr.', 2),\n",
       "             ('Ashley Judd|Nathan Gamble', 2),\n",
       "             ('Ashley Judd|Harry Connick Jr.', 2),\n",
       "             ('Michael Sheen|Shane Brolly', 2),\n",
       "             ('Chris Pine|Zachary Quinto', 2),\n",
       "             ('Robert Downey Jr.|Jude Law', 2),\n",
       "             ('John Cusack|Amanda Peet', 2),\n",
       "             ('Jennifer Connelly|Christopher Plummer', 2),\n",
       "             ('Jesse Eisenberg|Woody Harrelson', 2),\n",
       "             ('Kristen Stewart|Billy Burke', 2),\n",
       "             ('Robert Pattinson|Billy Burke', 2),\n",
       "             ('Bill Hader|Anna Faris', 2),\n",
       "             ('Bill Hader|James Caan', 2),\n",
       "             ('Anna Faris|James Caan', 2),\n",
       "             ('Susan Sarandon|Stanley Tucci', 2),\n",
       "             ('Jason Statham|Amy Smart', 2),\n",
       "             ('Jason Statham|Dwight Yoakam', 2),\n",
       "             ('Jason Statham|Efren Ramirez', 2),\n",
       "             ('Amy Smart|Dwight Yoakam', 2),\n",
       "             ('Amy Smart|Efren Ramirez', 2),\n",
       "             ('Vince Vaughn|Jon Favreau', 2),\n",
       "             ('Jason Bateman|Jon Favreau', 2),\n",
       "             ('Charlize Theron|Guy Pearce', 2),\n",
       "             ('Seth Rogen|Paul Rudd', 2),\n",
       "             ('Reese Witherspoon|Paul Rudd', 2),\n",
       "             ('Meryl Streep|Stanley Tucci', 2),\n",
       "             ('Johnny Depp|Giovanni Ribisi', 2),\n",
       "             ('Billy Crudup|Marion Cotillard', 2),\n",
       "             ('Matt Damon|Scott Bakula', 2),\n",
       "             ('Tobin Bell|Mark Rolston', 2),\n",
       "             ('Costas Mandylor|Mark Rolston', 2),\n",
       "             ('Betsy Russell|Mark Rolston', 2),\n",
       "             ('Shia LaBeouf|Megan Fox', 2),\n",
       "             ('Shia LaBeouf|Tyrese Gibson', 2),\n",
       "             ('Megan Fox|Tyrese Gibson', 2),\n",
       "             ('Josh Duhamel|Tyrese Gibson', 2),\n",
       "             ('Jeff Bridges|Kevin Spacey', 2),\n",
       "             ('Dwayne Johnson|Seann William Scott', 2),\n",
       "             ('Nicolas Cage|Eva Mendes', 2),\n",
       "             ('Seth Rogen|Leslie Mann', 2),\n",
       "             ('Naomi Watts|Armin Mueller-Stahl', 2),\n",
       "             ('Clive Owen|Paul Giamatti', 2),\n",
       "             ('Julia Roberts|Paul Giamatti', 2),\n",
       "             ('Jason Bateman|Kristen Wiig', 2),\n",
       "             ('Robert Downey Jr.|Jamie Foxx', 2),\n",
       "             ('Michael Caine|Emily Mortimer', 2),\n",
       "             ('Danny Huston|Lynn Collins', 2),\n",
       "             ('Robert Downey Jr.|Don Cheadle', 2),\n",
       "             ('Gwyneth Paltrow|Don Cheadle', 2),\n",
       "             ('Steve Carell|Russell Brand', 2),\n",
       "             ('Steve Carell|Will Arnett', 2),\n",
       "             ('Jason Segel|Russell Brand', 2),\n",
       "             ('Sylvester Stallone|Dolph Lundgren', 2),\n",
       "             ('Jason Statham|Dolph Lundgren', 2),\n",
       "             ('Russell Crowe|Mark Strong', 2),\n",
       "             ('Sam Worthington|Liam Neeson', 2),\n",
       "             ('Sam Worthington|Ralph Fiennes', 2),\n",
       "             ('Liam Neeson|Ralph Fiennes', 2),\n",
       "             ('Robert De Niro|Owen Wilson', 2),\n",
       "             ('Robert De Niro|Dustin Hoffman', 2),\n",
       "             ('Robert De Niro|Barbra Streisand', 2),\n",
       "             ('Ben Stiller|Dustin Hoffman', 2),\n",
       "             ('Ben Stiller|Barbra Streisand', 2),\n",
       "             ('Dustin Hoffman|Barbra Streisand', 2),\n",
       "             ('Logan Lerman|Brandon T. Jackson', 2),\n",
       "             ('Logan Lerman|Alexandra Daddario', 2),\n",
       "             ('Channing Tatum|Richard Jenkins', 2),\n",
       "             ('Danny Trejo|Michelle Rodriguez', 2),\n",
       "             ('Adam Sandler|Salma Hayek', 2),\n",
       "             ('Ashley Greene|Peter Facinelli', 2),\n",
       "             ('Brad Pitt|Jonah Hill', 2),\n",
       "             ('Mark Wahlberg|Dwayne Johnson', 2),\n",
       "             ('Helena Bonham Carter|Timothy Spall', 2),\n",
       "             ('Jake Gyllenhaal|Anne Hathaway', 2),\n",
       "             ('Tom Cruise|Cameron Diaz', 2),\n",
       "             ('Matt Damon|Greg Kinnear', 2),\n",
       "             ('Emily Blunt|Jason Segel', 2),\n",
       "             ('Jack Black|Amanda Peet', 2),\n",
       "             ('Christian Bale|Amy Adams', 2),\n",
       "             ('Katherine Heigl|Ashton Kutcher', 2),\n",
       "             ('Sarah Jessica Parker|Kristin Davis', 2),\n",
       "             ('Sarah Jessica Parker|Cynthia Nixon', 2),\n",
       "             ('Sarah Jessica Parker|Kim Cattrall', 2),\n",
       "             ('Sarah Jessica Parker|Chris Noth', 2),\n",
       "             ('Kristin Davis|Chris Noth', 2),\n",
       "             ('Cynthia Nixon|Chris Noth', 2),\n",
       "             ('Kim Cattrall|Chris Noth', 2),\n",
       "             ('Robert De Niro|Edward Norton', 2),\n",
       "             ('Zachary Gordon|Robert Capron', 2),\n",
       "             ('Zachary Gordon|Steve Zahn', 2),\n",
       "             ('Zachary Gordon|Rachael Harris', 2),\n",
       "             ('Robert Capron|Steve Zahn', 2),\n",
       "             ('Steve Zahn|Rachael Harris', 2),\n",
       "             ('Kristen Wiig|Maya Rudolph', 2),\n",
       "             ('Tyler Perry|Janet Jackson', 2),\n",
       "             ('Tyler Perry|Jill Scott', 2),\n",
       "             ('Tyler Perry|Malik Yoba', 2),\n",
       "             ('Janet Jackson|Malik Yoba', 2),\n",
       "             ('Jill Scott|Malik Yoba', 2),\n",
       "             ('Milla Jovovich|Ali Larter', 2),\n",
       "             ('John Goodman|Steve Buscemi', 2),\n",
       "             ('Billy Crystal|Steve Buscemi', 2),\n",
       "             ('RenÃ©e Zellweger|Colin Firth', 2),\n",
       "             ('RenÃ©e Zellweger|Hugh Grant', 2),\n",
       "             ('RenÃ©e Zellweger|Gemma Jones', 2),\n",
       "             ('RenÃ©e Zellweger|Jim Broadbent', 2),\n",
       "             ('Colin Firth|Gemma Jones', 2),\n",
       "             ('Colin Firth|Jim Broadbent', 2),\n",
       "             ('Hugh Grant|Gemma Jones', 2),\n",
       "             ('Hugh Grant|Jim Broadbent', 2),\n",
       "             ('George Clooney|Andy GarcÃ\\xada', 2),\n",
       "             ('George Clooney|Julia Roberts', 2),\n",
       "             ('Brad Pitt|Matt Damon', 2),\n",
       "             ('Brad Pitt|Andy GarcÃ\\xada', 2),\n",
       "             ('Brendan Fraser|John Hannah', 2),\n",
       "             ('Angelina Jolie|Noah Taylor', 2),\n",
       "             ('Russell Crowe|Paul Bettany', 2),\n",
       "             ('Jason Biggs|Chris Klein', 2),\n",
       "             ('Jason Biggs|Eddie Kaye Thomas', 2),\n",
       "             ('Seann William Scott|Eddie Kaye Thomas', 2),\n",
       "             ('Anne Hathaway|Julie Andrews', 2),\n",
       "             ('Anne Hathaway|Heather Matarazzo', 2),\n",
       "             ('Anne Hathaway|HÃ©ctor Elizondo', 2),\n",
       "             ('Julie Andrews|Heather Matarazzo', 2),\n",
       "             ('Julie Andrews|HÃ©ctor Elizondo', 2),\n",
       "             ('Ewan McGregor|Jim Broadbent', 2),\n",
       "             ('Johnny Depp|PenÃ©lope Cruz', 2),\n",
       "             ('Jude Law|Rachel Weisz', 2),\n",
       "             ('Heath Ledger|Shannyn Sossamon', 2),\n",
       "             ('Marlon Wayans|Shawn Wayans', 2),\n",
       "             ('Chris Tucker|Jackie Chan', 2),\n",
       "             ('Seth Green|Breckin Meyer', 2),\n",
       "             ('Breckin Meyer|Amy Smart', 2),\n",
       "             ('Brad Pitt|James Gandolfini', 2),\n",
       "             ('Anthony Hopkins|Hope Davis', 2),\n",
       "             ('Robert De Niro|Charlize Theron', 2),\n",
       "             ('DMX|Anthony Anderson', 2),\n",
       "             ('Mike Epps|Anna Maria Horsford', 2),\n",
       "             ('Jason Biggs|Amanda Detmer', 2),\n",
       "             ('Paul Walker|Vin Diesel', 2),\n",
       "             ('John Travolta|Vince Vaughn', 2),\n",
       "             ('Freddie Prinze Jr.|Matthew Lillard', 2),\n",
       "             ('Cary Elwes|Joanna Lumley', 2),\n",
       "             ('Jack Black|Dustin Hoffman', 2),\n",
       "             ('Jack Black|Jackie Chan', 2),\n",
       "             ('Dustin Hoffman|Jackie Chan', 2),\n",
       "             ('Angelina Jolie|Jackie Chan', 2),\n",
       "             ('Colin Firth|Stellan SkarsgÃ¥rd', 2),\n",
       "             ('Ben Stiller|Jada Pinkett Smith', 2),\n",
       "             ('David Schwimmer|Chris Rock', 2),\n",
       "             ('Ron Perlman|Selma Blair', 2),\n",
       "             ('Ron Perlman|Jeffrey Tambor', 2),\n",
       "             ('Selma Blair|Jeffrey Tambor', 2),\n",
       "             ('Selma Blair|John Hurt', 2),\n",
       "             ('William Moseley|Anna Popplewell', 2),\n",
       "             ('William Moseley|Skandar Keynes', 2),\n",
       "             ('William Moseley|Georgie Henley', 2),\n",
       "             ('Anna Popplewell|Skandar Keynes', 2),\n",
       "             ('Anna Popplewell|Georgie Henley', 2),\n",
       "             ('Hugh Jackman|David Wenham', 2),\n",
       "             ('George Clooney|Tilda Swinton', 2),\n",
       "             ('George Clooney|Richard Jenkins', 2),\n",
       "             ('Will Ferrell|John C. Reilly', 2),\n",
       "             ('Will Ferrell|Mary Steenburgen', 2),\n",
       "             ('Seth Rogen|Danny McBride', 2),\n",
       "             ('James Franco|Danny McBride', 2),\n",
       "             ('Mark Wahlberg|Mila Kunis', 2),\n",
       "             ('Paul Rudd|Elizabeth Banks', 2),\n",
       "             ('Angelina Jolie|John Malkovich', 2),\n",
       "             ('John Cho|Neil Patrick Harris', 2),\n",
       "             ('Kal Penn|Neil Patrick Harris', 2),\n",
       "             ('Tobin Bell|Scott Patterson', 2),\n",
       "             ('Scott Patterson|Betsy Russell', 2),\n",
       "             ('Javier Bardem|PenÃ©lope Cruz', 2),\n",
       "             ('Steve Carell|Seth Rogen', 2),\n",
       "             ('Robert De Niro|Carla Gugino', 2),\n",
       "             ('Adam Sandler|John Turturro', 2),\n",
       "             ('Sean Penn|Josh Brolin', 2),\n",
       "             ('Cheryl Hines|Jeff Daniels', 2),\n",
       "             ('Bruce Willis|Robin Wright', 2),\n",
       "             ('Chris Hemsworth|Natalie Portman', 2),\n",
       "             ('Chris Hemsworth|Tom Hiddleston', 2),\n",
       "             ('Chris Hemsworth|Anthony Hopkins', 2),\n",
       "             ('Natalie Portman|Tom Hiddleston', 2),\n",
       "             ('Natalie Portman|Anthony Hopkins', 2),\n",
       "             ('Tom Hiddleston|Anthony Hopkins', 2),\n",
       "             ('Ryan Gosling|Emma Stone', 2),\n",
       "             ('Ryan Gosling|Marisa Tomei', 2),\n",
       "             ('Bradley Cooper|Robert De Niro', 2),\n",
       "             ('Ed Helms|Ken Jeong', 2),\n",
       "             ('Zach Galifianakis|Ken Jeong', 2),\n",
       "             ('Justin Bartha|Ken Jeong', 2),\n",
       "             ('Asa Butterfield|Ben Kingsley', 2),\n",
       "             ('Matthew McConaughey|William H. Macy', 2),\n",
       "             ('Jim Cummings|Bud Luckey', 2),\n",
       "             ('Jim Cummings|Craig Ferguson', 2),\n",
       "             ('Tom Hanks|Julia Roberts', 2),\n",
       "             ('Antonio Banderas|Salma Hayek', 2),\n",
       "             ('Kate Winslet|Jude Law', 2),\n",
       "             ('Robert De Niro|Katherine Heigl', 2),\n",
       "             ('Robin Williams|Johnny A. Sanchez', 2),\n",
       "             ('David Arquette|Neve Campbell', 2),\n",
       "             ('David Arquette|Courteney Cox', 2),\n",
       "             ('Neve Campbell|Courteney Cox', 2),\n",
       "             ('Devon Bostick|Rachael Harris', 2),\n",
       "             ('Devon Bostick|Steve Zahn', 2),\n",
       "             ('Jason Lee|David Cross', 2),\n",
       "             ('Neil Patrick Harris|Hank Azaria', 2),\n",
       "             ('Cate Blanchett|Tom Hollander', 2),\n",
       "             ('James McAvoy|Maggie Smith', 2),\n",
       "             ('James McAvoy|Julie Walters', 2),\n",
       "             ('Philip Seymour Hoffman|Marisa Tomei', 2),\n",
       "             ('Katie Featherston|Sprague Grayden', 2),\n",
       "             ('Viggo Mortensen|Vincent Cassel', 2),\n",
       "             ('Paul Walker|Tyrese Gibson', 2),\n",
       "             ('Dwayne Johnson|Jordana Brewster', 2),\n",
       "             ('Ray Romano|John Leguizamo', 2),\n",
       "             ('Matt Damon|Franka Potente', 2),\n",
       "             ('Matt Damon|Chris Cooper', 2),\n",
       "             ('Matt Damon|Brian Cox', 2),\n",
       "             ('Franka Potente|Brian Cox', 2),\n",
       "             ('Milla Jovovich|Michelle Rodriguez', 2),\n",
       "             ('Ewan McGregor|Natalie Portman', 2),\n",
       "             ('Ewan McGregor|Hayden Christensen', 2),\n",
       "             ('Ewan McGregor|Ian McDiarmid', 2),\n",
       "             ('Ewan McGregor|Samuel L. Jackson', 2),\n",
       "             ('Natalie Portman|Hayden Christensen', 2),\n",
       "             ('Natalie Portman|Ian McDiarmid', 2),\n",
       "             ('Natalie Portman|Samuel L. Jackson', 2),\n",
       "             ('Hayden Christensen|Ian McDiarmid', 2),\n",
       "             ('Ian McDiarmid|Samuel L. Jackson', 2),\n",
       "             ('Leonardo DiCaprio|Martin Sheen', 2),\n",
       "             ('Tom Hanks|Amy Adams', 2),\n",
       "             ('Adrien Brody|Thomas Kretschmann', 2),\n",
       "             ('Jennifer Lopez|Stanley Tucci', 2),\n",
       "             ('Wesley Snipes|Kris Kristofferson', 2),\n",
       "             ('Johnny Knoxville|Bam Margera', 2),\n",
       "             ('Johnny Knoxville|Steve-O', 2),\n",
       "             ('Johnny Knoxville|Chris Pontius', 2),\n",
       "             ('Bam Margera|Steve-O', 2),\n",
       "             ('Bam Margera|Chris Pontius', 2),\n",
       "             ('Steve-O|Chris Pontius', 2),\n",
       "             ('Meryl Streep|Chris Cooper', 2),\n",
       "             ('Ice Cube|Cedric the Entertainer', 2),\n",
       "             ('Ice Cube|Sean Patrick Thomas', 2),\n",
       "             ('Cedric the Entertainer|Sean Patrick Thomas', 2),\n",
       "             ('Antonio Banderas|Alexa PenaVega', 2),\n",
       "             ('Antonio Banderas|Daryl Sabara', 2),\n",
       "             ('Carla Gugino|Alexa PenaVega', 2),\n",
       "             ('Carla Gugino|Daryl Sabara', 2),\n",
       "             ('Ice Cube|John Witherspoon', 2),\n",
       "             ('Ice Cube|Don Curry', 2),\n",
       "             ('Mike Epps|John Witherspoon', 2),\n",
       "             ('Mike Epps|Don Curry', 2),\n",
       "             ('John Witherspoon|Don Curry', 2),\n",
       "             ('Bruce Willis|Cole Hauser', 2),\n",
       "             ('Chris Rock|Kerry Washington', 2),\n",
       "             ('Jamie Foxx|Kerry Washington', 2),\n",
       "             ('Bradley Cooper|Jennifer Lawrence', 2),\n",
       "             ('John Leguizamo|Seann William Scott', 2),\n",
       "             ('Ray Romano|Seann William Scott', 2),\n",
       "             ('Denis Leary|Seann William Scott', 2),\n",
       "             ('Tommy Lee Jones|Josh Brolin', 2),\n",
       "             ('Kate Beckinsale|Bill Nighy', 2),\n",
       "             ('Jason Biggs|Alyson Hannigan', 2),\n",
       "             ('Alyson Hannigan|Seann William Scott', 2),\n",
       "             ('Alyson Hannigan|Thomas Ian Nicholas', 2),\n",
       "             ('Seann William Scott|Thomas Ian Nicholas', 2),\n",
       "             ('Adam Sandler|David Spade', 2),\n",
       "             ('Mark Wahlberg|Ben Foster', 2),\n",
       "             ('Ben Stiller|Sacha Baron Cohen', 2),\n",
       "             ('Joaquin Phoenix|Amy Adams', 2),\n",
       "             ('Philip Seymour Hoffman|Amy Adams', 2),\n",
       "             ('Leslie Mann|Jason Segel', 2),\n",
       "             ('Richard Gere|Susan Sarandon', 2),\n",
       "             ('Milla Jovovich|Sienna Guillory', 2),\n",
       "             ('Kate Beckinsale|Scott Speedman', 2),\n",
       "             ('Kate Beckinsale|Shane Brolly', 2),\n",
       "             ('Scott Speedman|Shane Brolly', 2),\n",
       "             ('Johnny Depp|Jack Davenport', 2),\n",
       "             ('Orlando Bloom|Jack Davenport', 2),\n",
       "             ('Keira Knightley|Jack Davenport', 2),\n",
       "             ('Uma Thurman|Daryl Hannah', 2),\n",
       "             ('Uma Thurman|David Carradine', 2),\n",
       "             ('Keanu Reeves|Laurence Fishburne', 2),\n",
       "             ('Keanu Reeves|Carrie-Anne Moss', 2),\n",
       "             ('Keanu Reeves|Hugo Weaving', 2),\n",
       "             ('Laurence Fishburne|Hugo Weaving', 2),\n",
       "             ('Carrie-Anne Moss|Hugo Weaving', 2),\n",
       "             ('Cameron Diaz|Drew Barrymore', 2),\n",
       "             ('Cameron Diaz|Lucy Liu', 2),\n",
       "             ('Ali Larter|Tony Todd', 2),\n",
       "             ('Steve Martin|Bonnie Hunt', 2),\n",
       "             ('Steve Martin|Tom Welling', 2),\n",
       "             ('Bonnie Hunt|Tom Welling', 2),\n",
       "             ('Jet Li|DMX', 2),\n",
       "             ('George Clooney|Catherine Zeta-Jones', 2),\n",
       "             ('Steve Martin|Eugene Levy', 2),\n",
       "             ('Frankie Muniz|Cynthia Stevenson', 2),\n",
       "             ('Patrick Stewart|Hugh Jackman', 2),\n",
       "             ('Patrick Stewart|Halle Berry', 2),\n",
       "             ('Ian McKellen|Halle Berry', 2),\n",
       "             ('Guy Pearce|Ben Kingsley', 2),\n",
       "             ('Vin Diesel|Karl Urban', 2),\n",
       "             ('Denzel Washington|Paula Patton', 2),\n",
       "             ('Matthew McConaughey|Steve Zahn', 2),\n",
       "             ('Adam Sandler|Chris Rock', 2),\n",
       "             ('Jonah Hill|Seth Rogen', 2),\n",
       "             ('Will Ferrell|Steve Carell', 2),\n",
       "             ('Will Ferrell|Paul Rudd', 2),\n",
       "             ('Will Ferrell|Christina Applegate', 2),\n",
       "             ('Will Ferrell|David Koechner', 2),\n",
       "             ('Paul Rudd|David Koechner', 2),\n",
       "             ('Christina Applegate|David Koechner', 2),\n",
       "             ('Cate Blanchett|Alec Baldwin', 2),\n",
       "             ('Christian Bale|Willem Dafoe', 2),\n",
       "             ('Daniel Radcliffe|Michael Gambon', 2),\n",
       "             ('Rupert Grint|Michael Gambon', 2),\n",
       "             ('Emma Watson|Michael Gambon', 2),\n",
       "             ('Johnny Depp|Freddie Highmore', 2),\n",
       "             ('Ioan Gruffudd|Jessica Alba', 2),\n",
       "             ('Ioan Gruffudd|Chris Evans', 2),\n",
       "             ('Ioan Gruffudd|Michael Chiklis', 2),\n",
       "             ('Ioan Gruffudd|Julian McMahon', 2),\n",
       "             ('Jessica Alba|Chris Evans', 2),\n",
       "             ('Jessica Alba|Michael Chiklis', 2),\n",
       "             ('Jessica Alba|Julian McMahon', 2),\n",
       "             ('Chris Evans|Michael Chiklis', 2),\n",
       "             ('Chris Evans|Julian McMahon', 2),\n",
       "             ('Michael Chiklis|Julian McMahon', 2),\n",
       "             ('Jim Carrey|Richard Jenkins', 2),\n",
       "             ('Joaquin Phoenix|Robert Patrick', 2),\n",
       "             ('Orlando Bloom|Bill Nighy', 2),\n",
       "             ('Keira Knightley|Bill Nighy', 2),\n",
       "             ('Daniel Craig|Eva Green', 2),\n",
       "             ('Daniel Craig|Jeffrey Wright', 2),\n",
       "             ('Ian McKellen|Jean Reno', 2),\n",
       "             ('Anna Faris|Regina Hall', 2),\n",
       "             ('Martin Lawrence|Nia Long', 2),\n",
       "             ('Adam Campbell|Jennifer Coolidge', 2),\n",
       "             ('Matt Damon|Julia Stiles', 2),\n",
       "             ('Nicolas Cage|Diane Kruger', 2),\n",
       "             ('Nicolas Cage|Jon Voight', 2),\n",
       "             ('Julie Andrews|Antonio Banderas', 2),\n",
       "             ('Milla Jovovich|Oded Fehr', 2),\n",
       "             ('Ben Stiller|Teri Polo', 2),\n",
       "             ('Ben Stiller|Robert De Niro', 2),\n",
       "             ('Michael Moore|George W. Bush', 2),\n",
       "             ('Bruce Willis|Matthew Perry', 2),\n",
       "             ('Matthew Perry|Kevin Pollak', 2),\n",
       "             ('Jennifer Garner|Jason Bateman', 2),\n",
       "             ('Nicole Kidman|Daniel Craig', 2),\n",
       "             ('Chris Pratt|Bryce Dallas Howard', 1),\n",
       "             ('Chris Pratt|Irrfan Khan', 1),\n",
       "             (\"Chris Pratt|Vincent D'Onofrio\", 1),\n",
       "             ('Chris Pratt|Nick Robinson', 1),\n",
       "             ('Bryce Dallas Howard|Irrfan Khan', 1),\n",
       "             (\"Bryce Dallas Howard|Vincent D'Onofrio\", 1),\n",
       "             ('Bryce Dallas Howard|Nick Robinson', 1),\n",
       "             (\"Irrfan Khan|Vincent D'Onofrio\", 1),\n",
       "             ('Irrfan Khan|Nick Robinson', 1),\n",
       "             (\"Vincent D'Onofrio|Nick Robinson\", 1),\n",
       "             ('Tom Hardy|Charlize Theron', 1),\n",
       "             ('Tom Hardy|Hugh Keays-Byrne', 1),\n",
       "             ('Tom Hardy|Nicholas Hoult', 1),\n",
       "             ('Tom Hardy|Josh Helman', 1),\n",
       "             ('Charlize Theron|Hugh Keays-Byrne', 1),\n",
       "             ('Charlize Theron|Nicholas Hoult', 1),\n",
       "             ('Charlize Theron|Josh Helman', 1),\n",
       "             ('Hugh Keays-Byrne|Nicholas Hoult', 1),\n",
       "             ('Hugh Keays-Byrne|Josh Helman', 1),\n",
       "             ('Nicholas Hoult|Josh Helman', 1),\n",
       "             ('Theo James|Ansel Elgort', 1),\n",
       "             ('Kate Winslet|Ansel Elgort', 1),\n",
       "             ('Ansel Elgort|Miles Teller', 1),\n",
       "             ('Harrison Ford|Mark Hamill', 1),\n",
       "             ('Harrison Ford|Carrie Fisher', 1),\n",
       "             ('Harrison Ford|Adam Driver', 1),\n",
       "             ('Harrison Ford|Daisy Ridley', 1),\n",
       "             ('Mark Hamill|Carrie Fisher', 1),\n",
       "             ('Mark Hamill|Adam Driver', 1),\n",
       "             ('Mark Hamill|Daisy Ridley', 1),\n",
       "             ('Carrie Fisher|Adam Driver', 1),\n",
       "             ('Carrie Fisher|Daisy Ridley', 1),\n",
       "             ('Adam Driver|Daisy Ridley', 1),\n",
       "             ('Vin Diesel|Jason Statham', 1),\n",
       "             ('Paul Walker|Jason Statham', 1),\n",
       "             ('Jason Statham|Michelle Rodriguez', 1),\n",
       "             ('Jason Statham|Dwayne Johnson', 1),\n",
       "             ('Michelle Rodriguez|Dwayne Johnson', 1),\n",
       "             ('Leonardo DiCaprio|Will Poulter', 1),\n",
       "             ('Leonardo DiCaprio|Domhnall Gleeson', 1),\n",
       "             ('Leonardo DiCaprio|Paul Anderson', 1),\n",
       "             ('Tom Hardy|Will Poulter', 1),\n",
       "             ('Tom Hardy|Domhnall Gleeson', 1),\n",
       "             ('Tom Hardy|Paul Anderson', 1),\n",
       "             ('Will Poulter|Domhnall Gleeson', 1),\n",
       "             ('Will Poulter|Paul Anderson', 1),\n",
       "             ('Domhnall Gleeson|Paul Anderson', 1),\n",
       "             ('Arnold Schwarzenegger|Jason Clarke', 1),\n",
       "             ('Arnold Schwarzenegger|Emilia Clarke', 1),\n",
       "             ('Arnold Schwarzenegger|Jai Courtney', 1),\n",
       "             ('Arnold Schwarzenegger|J.K. Simmons', 1),\n",
       "             ('Jason Clarke|Emilia Clarke', 1),\n",
       "             ('Jason Clarke|Jai Courtney', 1),\n",
       "             ('Jason Clarke|J.K. Simmons', 1),\n",
       "             ('Emilia Clarke|Jai Courtney', 1),\n",
       "             ('Emilia Clarke|J.K. Simmons', 1),\n",
       "             ('Jai Courtney|J.K. Simmons', 1),\n",
       "             ('Matt Damon|Jessica Chastain', 1),\n",
       "             ('Matt Damon|Kristen Wiig', 1),\n",
       "             ('Matt Damon|Jeff Daniels', 1),\n",
       "             ('Matt Damon|Michael PeÃ±a', 1),\n",
       "             ('Jessica Chastain|Kristen Wiig', 1),\n",
       "             ('Jessica Chastain|Jeff Daniels', 1),\n",
       "             ('Jessica Chastain|Michael PeÃ±a', 1),\n",
       "             ('Kristen Wiig|Jeff Daniels', 1),\n",
       "             ('Kristen Wiig|Michael PeÃ±a', 1),\n",
       "             ('Jeff Daniels|Michael PeÃ±a', 1),\n",
       "             ('Sandra Bullock|Jon Hamm', 1),\n",
       "             ('Sandra Bullock|Michael Keaton', 1),\n",
       "             ('Sandra Bullock|Allison Janney', 1),\n",
       "             ('Sandra Bullock|Steve Coogan', 1),\n",
       "             ('Jon Hamm|Michael Keaton', 1),\n",
       "             ('Jon Hamm|Allison Janney', 1),\n",
       "             ('Jon Hamm|Steve Coogan', 1),\n",
       "             ('Michael Keaton|Allison Janney', 1),\n",
       "             ('Michael Keaton|Steve Coogan', 1),\n",
       "             ('Allison Janney|Steve Coogan', 1),\n",
       "             ('Amy Poehler|Phyllis Smith', 1),\n",
       "             ('Amy Poehler|Richard Kind', 1),\n",
       "             ('Amy Poehler|Bill Hader', 1),\n",
       "             ('Amy Poehler|Lewis Black', 1),\n",
       "             ('Phyllis Smith|Richard Kind', 1),\n",
       "             ('Phyllis Smith|Bill Hader', 1),\n",
       "             ('Phyllis Smith|Lewis Black', 1),\n",
       "             ('Richard Kind|Bill Hader', 1),\n",
       "             ('Richard Kind|Lewis Black', 1),\n",
       "             ('Bill Hader|Lewis Black', 1),\n",
       "             ('Daniel Craig|Christoph Waltz', 1),\n",
       "             ('Daniel Craig|LÃ©a Seydoux', 1),\n",
       "             ('Daniel Craig|Monica Bellucci', 1),\n",
       "             ('Christoph Waltz|LÃ©a Seydoux', 1),\n",
       "             ('Christoph Waltz|Ralph Fiennes', 1),\n",
       "             ('Christoph Waltz|Monica Bellucci', 1),\n",
       "             ('LÃ©a Seydoux|Ralph Fiennes', 1),\n",
       "             ('LÃ©a Seydoux|Monica Bellucci', 1),\n",
       "             ('Ralph Fiennes|Monica Bellucci', 1),\n",
       "             ('Mila Kunis|Channing Tatum', 1),\n",
       "             ('Mila Kunis|Sean Bean', 1),\n",
       "             ('Mila Kunis|Eddie Redmayne', 1),\n",
       "             ('Mila Kunis|Douglas Booth', 1),\n",
       "             ('Channing Tatum|Sean Bean', 1),\n",
       "             ('Channing Tatum|Eddie Redmayne', 1),\n",
       "             ('Channing Tatum|Douglas Booth', 1),\n",
       "             ('Sean Bean|Eddie Redmayne', 1),\n",
       "             ('Sean Bean|Douglas Booth', 1),\n",
       "             ('Eddie Redmayne|Douglas Booth', 1),\n",
       "             ('Domhnall Gleeson|Alicia Vikander', 1),\n",
       "             ('Domhnall Gleeson|Oscar Isaac', 1),\n",
       "             ('Domhnall Gleeson|Sonoya Mizuno', 1),\n",
       "             ('Domhnall Gleeson|Corey Johnson', 1),\n",
       "             ('Alicia Vikander|Oscar Isaac', 1),\n",
       "             ('Alicia Vikander|Sonoya Mizuno', 1),\n",
       "             ('Alicia Vikander|Corey Johnson', 1),\n",
       "             ('Oscar Isaac|Sonoya Mizuno', 1),\n",
       "             ('Oscar Isaac|Corey Johnson', 1),\n",
       "             ('Sonoya Mizuno|Corey Johnson', 1),\n",
       "             ('Adam Sandler|Michelle Monaghan', 1),\n",
       "             ('Adam Sandler|Peter Dinklage', 1),\n",
       "             ('Adam Sandler|Josh Gad', 1),\n",
       "             ('Michelle Monaghan|Peter Dinklage', 1),\n",
       "             ('Michelle Monaghan|Josh Gad', 1),\n",
       "             ('Michelle Monaghan|Kevin James', 1),\n",
       "             ('Peter Dinklage|Josh Gad', 1),\n",
       "             ('Peter Dinklage|Kevin James', 1),\n",
       "             ('Josh Gad|Kevin James', 1),\n",
       "             ('Chris Hemsworth|Mark Ruffalo', 1),\n",
       "             ('Chris Hemsworth|Chris Evans', 1),\n",
       "             ('Mark Ruffalo|Chris Evans', 1),\n",
       "             ('Samuel L. Jackson|Kurt Russell', 1),\n",
       "             ('Samuel L. Jackson|Jennifer Jason Leigh', 1),\n",
       "             ('Samuel L. Jackson|Walton Goggins', 1),\n",
       "             ('Samuel L. Jackson|DemiÃ¡n Bichir', 1),\n",
       "             ('Kurt Russell|Jennifer Jason Leigh', 1),\n",
       "             ('Kurt Russell|Walton Goggins', 1),\n",
       "             ('Kurt Russell|DemiÃ¡n Bichir', 1),\n",
       "             ('Jennifer Jason Leigh|Walton Goggins', 1),\n",
       "             ('Jennifer Jason Leigh|DemiÃ¡n Bichir', 1),\n",
       "             ('Walton Goggins|DemiÃ¡n Bichir', 1),\n",
       "             ('Liam Neeson|Forest Whitaker', 1),\n",
       "             ('Liam Neeson|Dougray Scott', 1),\n",
       "             ('Forest Whitaker|Maggie Grace', 1),\n",
       "             ('Forest Whitaker|Famke Janssen', 1),\n",
       "             ('Forest Whitaker|Dougray Scott', 1),\n",
       "             ('Maggie Grace|Dougray Scott', 1),\n",
       "             ('Famke Janssen|Dougray Scott', 1),\n",
       "             ('Paul Rudd|Michael Douglas', 1),\n",
       "             ('Paul Rudd|Evangeline Lilly', 1),\n",
       "             ('Paul Rudd|Corey Stoll', 1),\n",
       "             ('Paul Rudd|Bobby Cannavale', 1),\n",
       "             ('Michael Douglas|Evangeline Lilly', 1),\n",
       "             ('Michael Douglas|Corey Stoll', 1),\n",
       "             ('Michael Douglas|Bobby Cannavale', 1),\n",
       "             ('Evangeline Lilly|Corey Stoll', 1),\n",
       "             ('Evangeline Lilly|Bobby Cannavale', 1),\n",
       "             ('Corey Stoll|Bobby Cannavale', 1),\n",
       "             ('Lily James|Cate Blanchett', 1),\n",
       "             ('Lily James|Richard Madden', 1),\n",
       "             ('Lily James|Helena Bonham Carter', 1),\n",
       "             ('Lily James|Holliday Grainger', 1),\n",
       "             ('Cate Blanchett|Richard Madden', 1),\n",
       "             ('Cate Blanchett|Helena Bonham Carter', 1),\n",
       "             ('Cate Blanchett|Holliday Grainger', 1),\n",
       "             ('Richard Madden|Helena Bonham Carter', 1),\n",
       "             ('Richard Madden|Holliday Grainger', 1),\n",
       "             ('Helena Bonham Carter|Holliday Grainger', 1),\n",
       "             ('Britt Robertson|George Clooney', 1),\n",
       "             ('Britt Robertson|Raffey Cassidy', 1),\n",
       "             ('Britt Robertson|Thomas Robinson', 1),\n",
       "             ('Britt Robertson|Hugh Laurie', 1),\n",
       "             ('George Clooney|Raffey Cassidy', 1),\n",
       "             ('George Clooney|Thomas Robinson', 1),\n",
       "             ('George Clooney|Hugh Laurie', 1),\n",
       "             ('Raffey Cassidy|Thomas Robinson', 1),\n",
       "             ('Raffey Cassidy|Hugh Laurie', 1),\n",
       "             ('Thomas Robinson|Hugh Laurie', 1),\n",
       "             ('Jake Gyllenhaal|Rachel McAdams', 1),\n",
       "             ('Jake Gyllenhaal|Forest Whitaker', 1),\n",
       "             ('Jake Gyllenhaal|Oona Laurence', 1),\n",
       "             ('Jake Gyllenhaal|50 Cent', 1),\n",
       "             ('Rachel McAdams|Forest Whitaker', 1),\n",
       "             ('Rachel McAdams|Oona Laurence', 1),\n",
       "             ('Rachel McAdams|50 Cent', 1),\n",
       "             ('Forest Whitaker|Oona Laurence', 1),\n",
       "             ('Forest Whitaker|50 Cent', 1),\n",
       "             ('Oona Laurence|50 Cent', 1),\n",
       "             ('Dwayne Johnson|Alexandra Daddario', 1),\n",
       "             ('Dwayne Johnson|Ioan Gruffudd', 1),\n",
       "             ('Dwayne Johnson|Archie Panjabi', 1),\n",
       "             ('Alexandra Daddario|Carla Gugino', 1),\n",
       "             ('Alexandra Daddario|Ioan Gruffudd', 1),\n",
       "             ('Alexandra Daddario|Archie Panjabi', 1),\n",
       "             ('Carla Gugino|Ioan Gruffudd', 1),\n",
       "             ('Carla Gugino|Archie Panjabi', 1),\n",
       "             ('Ioan Gruffudd|Archie Panjabi', 1),\n",
       "             ('Dakota Johnson|Jamie Dornan', 1),\n",
       "             ('Dakota Johnson|Jennifer Ehle', 1),\n",
       "             ('Dakota Johnson|Eloise Mumford', 1),\n",
       "             ('Dakota Johnson|Victor Rasuk', 1),\n",
       "             ('Jamie Dornan|Jennifer Ehle', 1),\n",
       "             ('Jamie Dornan|Eloise Mumford', 1),\n",
       "             ('Jamie Dornan|Victor Rasuk', 1),\n",
       "             ('Jennifer Ehle|Eloise Mumford', 1),\n",
       "             ('Jennifer Ehle|Victor Rasuk', 1),\n",
       "             ('Eloise Mumford|Victor Rasuk', 1),\n",
       "             ('Christian Bale|Steve Carell', 1),\n",
       "             ('Christian Bale|Ryan Gosling', 1),\n",
       "             ('Christian Bale|Brad Pitt', 1),\n",
       "             ('Steve Carell|Brad Pitt', 1),\n",
       "             ('Steve Carell|Melissa Leo', 1),\n",
       "             ('Ryan Gosling|Brad Pitt', 1),\n",
       "             ('Ryan Gosling|Melissa Leo', 1),\n",
       "             ('Brad Pitt|Melissa Leo', 1),\n",
       "             ('Tom Cruise|Rebecca Ferguson', 1),\n",
       "             ('Jeremy Renner|Rebecca Ferguson', 1),\n",
       "             ('Jeremy Renner|Ving Rhames', 1),\n",
       "             ('Simon Pegg|Rebecca Ferguson', 1),\n",
       "             ('Simon Pegg|Ving Rhames', 1),\n",
       "             ('Rebecca Ferguson|Ving Rhames', 1),\n",
       "             ('Mark Wahlberg|Amanda Seyfried', 1),\n",
       "             ('Mark Wahlberg|Jessica Barth', 1),\n",
       "             ('Seth MacFarlane|Amanda Seyfried', 1),\n",
       "             ('Seth MacFarlane|Jessica Barth', 1),\n",
       "             ('Amanda Seyfried|Jessica Barth', 1),\n",
       "             ('Amanda Seyfried|Giovanni Ribisi', 1),\n",
       "             ('Jessica Barth|Giovanni Ribisi', 1),\n",
       "             ('Taron Egerton|Colin Firth', 1),\n",
       "             ('Taron Egerton|Samuel L. Jackson', 1),\n",
       "             ('Taron Egerton|Michael Caine', 1),\n",
       "             ('Taron Egerton|Mark Strong', 1),\n",
       "             ('Colin Firth|Samuel L. Jackson', 1),\n",
       "             ('Colin Firth|Michael Caine', 1),\n",
       "             ('Colin Firth|Mark Strong', 1),\n",
       "             ('Samuel L. Jackson|Michael Caine', 1),\n",
       "             ('Samuel L. Jackson|Mark Strong', 1),\n",
       "             ('Michael Caine|Mark Strong', 1),\n",
       "             ('Mark Ruffalo|Michael Keaton', 1),\n",
       "             ('Mark Ruffalo|Rachel McAdams', 1),\n",
       "             ('Mark Ruffalo|Liev Schreiber', 1),\n",
       "             ('Mark Ruffalo|John Slattery', 1),\n",
       "             ('Michael Keaton|Rachel McAdams', 1),\n",
       "             ('Michael Keaton|Liev Schreiber', 1),\n",
       "             ('Michael Keaton|John Slattery', 1),\n",
       "             ('Rachel McAdams|Liev Schreiber', 1),\n",
       "             ('Rachel McAdams|John Slattery', 1),\n",
       "             ('Liev Schreiber|John Slattery', 1),\n",
       "             (\"Dylan O'Brien|Thomas Brodie-Sangster\", 1),\n",
       "             (\"Dylan O'Brien|Giancarlo Esposito\", 1),\n",
       "             (\"Dylan O'Brien|Aidan Gillen\", 1),\n",
       "             ('Kaya Scodelario|Thomas Brodie-Sangster', 1),\n",
       "             ('Kaya Scodelario|Giancarlo Esposito', 1),\n",
       "             ('Kaya Scodelario|Aidan Gillen', 1),\n",
       "             ('Thomas Brodie-Sangster|Giancarlo Esposito', 1),\n",
       "             ('Thomas Brodie-Sangster|Aidan Gillen', 1),\n",
       "             ('Giancarlo Esposito|Aidan Gillen', 1),\n",
       "             ('Sharlto Copley|Dev Patel', 1),\n",
       "             ('Sharlto Copley|Ninja', 1),\n",
       "             ('Sharlto Copley|Yolandi Visser', 1),\n",
       "             ('Sharlto Copley|Jose Pablo Cantillo', 1),\n",
       "             ('Dev Patel|Ninja', 1),\n",
       "             ('Dev Patel|Yolandi Visser', 1),\n",
       "             ('Dev Patel|Jose Pablo Cantillo', 1),\n",
       "             ('Ninja|Yolandi Visser', 1),\n",
       "             ('Ninja|Jose Pablo Cantillo', 1),\n",
       "             ('Yolandi Visser|Jose Pablo Cantillo', 1),\n",
       "             ('Anna Kendrick|Hailee Steinfeld', 1),\n",
       "             ('Rebel Wilson|Hailee Steinfeld', 1),\n",
       "             ('Rebel Wilson|Brittany Snow', 1),\n",
       "             ('Rebel Wilson|Skylar Astin', 1),\n",
       "             ('Hailee Steinfeld|Brittany Snow', 1),\n",
       "             ('Hailee Steinfeld|Skylar Astin', 1),\n",
       "             ('Brittany Snow|Skylar Astin', 1),\n",
       "             ('Tom Hanks|Mark Rylance', 1),\n",
       "             ('Tom Hanks|Amy Ryan', 1),\n",
       "             ('Tom Hanks|Alan Alda', 1),\n",
       "             ('Tom Hanks|Sebastian Koch', 1),\n",
       "             ('Mark Rylance|Amy Ryan', 1),\n",
       "             ('Mark Rylance|Alan Alda', 1),\n",
       "             ('Mark Rylance|Sebastian Koch', 1),\n",
       "             ('Amy Ryan|Alan Alda', 1),\n",
       "             ('Amy Ryan|Sebastian Koch', 1),\n",
       "             ('Alan Alda|Sebastian Koch', 1),\n",
       "             ('Jack Black|Dylan Minnette', 1),\n",
       "             ('Jack Black|Odeya Rush', 1),\n",
       "             ('Jack Black|Amy Ryan', 1),\n",
       "             ('Jack Black|Jillian Bell', 1),\n",
       "             ('Dylan Minnette|Odeya Rush', 1),\n",
       "             ('Dylan Minnette|Amy Ryan', 1),\n",
       "             ('Dylan Minnette|Jillian Bell', 1),\n",
       "             ('Odeya Rush|Amy Ryan', 1),\n",
       "             ('Odeya Rush|Jillian Bell', 1),\n",
       "             ('Amy Ryan|Jillian Bell', 1),\n",
       "             ('Brie Larson|Jacob Tremblay', 1),\n",
       "             ('Brie Larson|Joan Allen', 1),\n",
       "             ('Brie Larson|Sean Bridgers', 1),\n",
       "             ('Brie Larson|William H. Macy', 1),\n",
       "             ('Jacob Tremblay|Joan Allen', 1),\n",
       "             ('Jacob Tremblay|Sean Bridgers', 1),\n",
       "             ('Jacob Tremblay|William H. Macy', 1),\n",
       "             ('Joan Allen|Sean Bridgers', 1),\n",
       "             ('Joan Allen|William H. Macy', 1),\n",
       "             ('Sean Bridgers|William H. Macy', 1),\n",
       "             ('Raymond Ochoa|Jack Bright', 1),\n",
       "             ('Raymond Ochoa|Jeffrey Wright', 1),\n",
       "             ('Raymond Ochoa|Frances McDormand', 1),\n",
       "             ('Raymond Ochoa|Maleah Nipay-Padilla', 1),\n",
       "             ('Jack Bright|Jeffrey Wright', 1),\n",
       "             ('Jack Bright|Frances McDormand', 1),\n",
       "             ('Jack Bright|Maleah Nipay-Padilla', 1),\n",
       "             ('Jeffrey Wright|Frances McDormand', 1),\n",
       "             ('Jeffrey Wright|Maleah Nipay-Padilla', 1),\n",
       "             ('Frances McDormand|Maleah Nipay-Padilla', 1),\n",
       "             ('Liam Neeson|Ed Harris', 1),\n",
       "             ('Liam Neeson|Joel Kinnaman', 1),\n",
       "             ('Liam Neeson|Bruce McGill', 1),\n",
       "             ('Ed Harris|Joel Kinnaman', 1),\n",
       "             ('Ed Harris|Boyd Holbrook', 1),\n",
       "             ('Ed Harris|Bruce McGill', 1),\n",
       "             ('Joel Kinnaman|Boyd Holbrook', 1),\n",
       "             ('Joel Kinnaman|Bruce McGill', 1),\n",
       "             ('Boyd Holbrook|Bruce McGill', 1),\n",
       "             ('Saoirse Ronan|Domhnall Gleeson', 1),\n",
       "             ('Saoirse Ronan|Emory Cohen', 1),\n",
       "             ('Saoirse Ronan|Emily Bett Rickards', 1),\n",
       "             (\"Saoirse Ronan|Eileen O'Higgins\", 1),\n",
       "             ('Domhnall Gleeson|Emory Cohen', 1),\n",
       "             ('Domhnall Gleeson|Emily Bett Rickards', 1),\n",
       "             (\"Domhnall Gleeson|Eileen O'Higgins\", 1),\n",
       "             ('Emory Cohen|Emily Bett Rickards', 1),\n",
       "             (\"Emory Cohen|Eileen O'Higgins\", 1),\n",
       "             (\"Emily Bett Rickards|Eileen O'Higgins\", 1),\n",
       "             (\"O'Shea Jackson Jr.|Corey Hawkins\", 1),\n",
       "             (\"O'Shea Jackson Jr.|Jason Mitchell\", 1),\n",
       "             (\"O'Shea Jackson Jr.|Neil Brown Jr.\", 1),\n",
       "             (\"O'Shea Jackson Jr.|Aldis Hodge\", 1),\n",
       "             ('Corey Hawkins|Jason Mitchell', 1),\n",
       "             ('Corey Hawkins|Neil Brown Jr.', 1),\n",
       "             ('Corey Hawkins|Aldis Hodge', 1),\n",
       "             ('Jason Mitchell|Neil Brown Jr.', 1),\n",
       "             ('Jason Mitchell|Aldis Hodge', 1),\n",
       "             ('Neil Brown Jr.|Aldis Hodge', 1),\n",
       "             ('Vin Diesel|Rose Leslie', 1),\n",
       "             ('Vin Diesel|Michael Caine', 1),\n",
       "             ('Vin Diesel|Elijah Wood', 1),\n",
       "             ('Vin Diesel|Ã“lafur Darri Ã“lafsson', 1),\n",
       "             ('Rose Leslie|Michael Caine', 1),\n",
       "             ('Rose Leslie|Elijah Wood', 1),\n",
       "             ('Rose Leslie|Ã“lafur Darri Ã“lafsson', 1),\n",
       "             ('Michael Caine|Elijah Wood', 1),\n",
       "             ('Michael Caine|Ã“lafur Darri Ã“lafsson', 1),\n",
       "             ('Elijah Wood|Ã“lafur Darri Ã“lafsson', 1),\n",
       "             ('Henry Cavill|Armie Hammer', 1),\n",
       "             ('Henry Cavill|Alicia Vikander', 1),\n",
       "             ('Henry Cavill|Elizabeth Debicki', 1),\n",
       "             ('Henry Cavill|Luca Calvani', 1),\n",
       "             ('Armie Hammer|Alicia Vikander', 1),\n",
       "             ('Armie Hammer|Elizabeth Debicki', 1),\n",
       "             ('Armie Hammer|Luca Calvani', 1),\n",
       "             ('Alicia Vikander|Elizabeth Debicki', 1),\n",
       "             ('Alicia Vikander|Luca Calvani', 1),\n",
       "             ('Elizabeth Debicki|Luca Calvani', 1),\n",
       "             ('Blake Lively|Michiel Huisman', 1),\n",
       "             ('Blake Lively|Harrison Ford', 1),\n",
       "             ('Blake Lively|Ellen Burstyn', 1),\n",
       "             ('Blake Lively|Kathy Baker', 1),\n",
       "             ('Michiel Huisman|Harrison Ford', 1),\n",
       "             ('Michiel Huisman|Ellen Burstyn', 1),\n",
       "             ('Michiel Huisman|Kathy Baker', 1),\n",
       "             ('Harrison Ford|Ellen Burstyn', 1),\n",
       "             ('Harrison Ford|Kathy Baker', 1),\n",
       "             ('Ellen Burstyn|Kathy Baker', 1),\n",
       "             ('Sharlto Copley|Haley Bennett', 1),\n",
       "             ('Sharlto Copley|Danila Kozlovskiy', 1),\n",
       "             ('Sharlto Copley|Tim Roth', 1),\n",
       "             ('Sharlto Copley|Andrei Dementiev', 1),\n",
       "             ('Haley Bennett|Danila Kozlovskiy', 1),\n",
       "             ('Haley Bennett|Tim Roth', 1),\n",
       "             ('Haley Bennett|Andrei Dementiev', 1),\n",
       "             ('Danila Kozlovskiy|Tim Roth', 1),\n",
       "             ('Danila Kozlovskiy|Andrei Dementiev', 1),\n",
       "             ('Tim Roth|Andrei Dementiev', 1),\n",
       "             ('Jim Parsons|Rihanna', 1),\n",
       "             ('Jim Parsons|Steve Martin', 1),\n",
       "             ('Jim Parsons|Jennifer Lopez', 1),\n",
       "             ('Jim Parsons|Matt Jones', 1),\n",
       "             ('Rihanna|Steve Martin', 1),\n",
       "             ('Rihanna|Jennifer Lopez', 1),\n",
       "             ('Rihanna|Matt Jones', 1),\n",
       "             ('Steve Martin|Jennifer Lopez', 1),\n",
       "             ('Steve Martin|Matt Jones', 1),\n",
       "             ('Jennifer Lopez|Matt Jones', 1),\n",
       "             ('Nat Wolff|Cara Delevingne', 1),\n",
       "             ('Nat Wolff|Halston Sage', 1),\n",
       "             ('Nat Wolff|Justice Smith', 1),\n",
       "             ('Nat Wolff|Austin Abrams', 1),\n",
       "             ('Cara Delevingne|Halston Sage', 1),\n",
       "             ('Cara Delevingne|Justice Smith', 1),\n",
       "             ('Cara Delevingne|Austin Abrams', 1),\n",
       "             ('Halston Sage|Justice Smith', 1),\n",
       "             ('Halston Sage|Austin Abrams', 1),\n",
       "             ('Justice Smith|Austin Abrams', 1),\n",
       "             ('Cate Blanchett|Rooney Mara', 1),\n",
       "             ('Cate Blanchett|Kyle Chandler', 1),\n",
       "             ('Cate Blanchett|Sarah Paulson', 1),\n",
       "             ('Cate Blanchett|Jake Lacy', 1),\n",
       "             ('Rooney Mara|Kyle Chandler', 1),\n",
       "             ('Rooney Mara|Sarah Paulson', 1),\n",
       "             ('Rooney Mara|Jake Lacy', 1),\n",
       "             ('Kyle Chandler|Sarah Paulson', 1),\n",
       "             ('Kyle Chandler|Jake Lacy', 1),\n",
       "             ('Sarah Paulson|Jake Lacy', 1),\n",
       "             ('Robert De Niro|Anne Hathaway', 1),\n",
       "             ('Robert De Niro|Rene Russo', 1),\n",
       "             ('Robert De Niro|Anders Holm', 1),\n",
       "             ('Robert De Niro|JoJo Kushner', 1),\n",
       "             ('Anne Hathaway|Rene Russo', 1),\n",
       "             ('Anne Hathaway|Anders Holm', 1),\n",
       "             ('Anne Hathaway|JoJo Kushner', 1),\n",
       "             ('Rene Russo|Anders Holm', 1),\n",
       "             ('Rene Russo|JoJo Kushner', 1),\n",
       "             ('Anders Holm|JoJo Kushner', 1),\n",
       "             ('Jason Clarke|Jake Gyllenhaal', 1),\n",
       "             ('Jason Clarke|Josh Brolin', 1),\n",
       "             ('Jason Clarke|John Hawkes', 1),\n",
       "             ('Jason Clarke|Sam Worthington', 1),\n",
       "             ('Jake Gyllenhaal|Josh Brolin', 1),\n",
       "             ('Jake Gyllenhaal|John Hawkes', 1),\n",
       "             ('Jake Gyllenhaal|Sam Worthington', 1),\n",
       "             ('Josh Brolin|John Hawkes', 1),\n",
       "             ('Josh Brolin|Sam Worthington', 1),\n",
       "             ...])"
      ]
     },
     "metadata": {},
     "output_type": "display_data"
    }
   ],
   "source": [
    "from operator import itemgetter\n",
    "from collections import OrderedDict\n",
    "\n",
    "display(OrderedDict(sorted(pair_dict27.items(), key=lambda t: t[1], reverse=True)))"
   ]
  },
  {
   "cell_type": "code",
   "execution_count": 91,
   "metadata": {},
   "outputs": [],
   "source": [
    "answers['27'] = 'Daniel Radcliffe|Rupert Grint'"
   ]
  },
  {
   "cell_type": "markdown",
   "metadata": {
    "colab_type": "text",
    "id": "U0nONFnGVqAX"
   },
   "source": [
    "# Submission"
   ]
  },
  {
   "cell_type": "code",
   "execution_count": 92,
   "metadata": {
    "colab": {},
    "colab_type": "code",
    "id": "IfcaRO9-VqAX",
    "outputId": "0f132912-32bb-4196-c98c-abfbc4ad5a5f"
   },
   "outputs": [
    {
     "data": {
      "text/plain": [
       "{'1': '723. Pirates of the Caribbean: On Stranger Tides (tt1298650)',\n",
       " '2': '1157. Gods and Generals (tt0279111)',\n",
       " '3': '768. Winnie the Pooh (tt1449283)',\n",
       " '4': '110',\n",
       " '5': '107',\n",
       " '6': '239. Avatar (tt0499549)',\n",
       " '7': '1245. The Lone Ranger (tt1210819)',\n",
       " '8': '1478',\n",
       " '9': '599. The Dark Knight (tt0468569)',\n",
       " '10': '1245. The Lone Ranger (tt1210819)',\n",
       " '11': 'Drama',\n",
       " '12': 'Drama',\n",
       " '13': 'Peter Jackson',\n",
       " '14': 'Robert Rodriguez',\n",
       " '15': 'Chris Hemsworth',\n",
       " '16': 'Matt Damon',\n",
       " '17': 'Action',\n",
       " '18': '925. K-19: The Widowmaker (tt0267626)',\n",
       " '19': '2015',\n",
       " '20': '2014',\n",
       " '21': 'Сентябрь',\n",
       " '22': '450',\n",
       " '23': 'Peter Jackson',\n",
       " '24': 'Four By Two Productions',\n",
       " '25': 'Midnight Picture Show',\n",
       " '26': 'Inside Out, Room, Interstellar, Guardians of the Galaxy, The Imitation Game, Gone Girl, The Grand Budapest Hotel, Inception, The Dark Knight, The Pianist, The Lord of the Rings: The Return of the King, The Wolf of Wall Street, 12 Years a Slave, Memento',\n",
       " '27': 'Daniel Radcliffe|Rupert Grint'}"
      ]
     },
     "execution_count": 92,
     "metadata": {},
     "output_type": "execute_result"
    }
   ],
   "source": [
    "# в конце можно посмотреть свои ответы к каждому вопросу\n",
    "answers"
   ]
  },
  {
   "cell_type": "code",
   "execution_count": 93,
   "metadata": {
    "colab": {},
    "colab_type": "code",
    "id": "SiRmHPl8VqAd"
   },
   "outputs": [
    {
     "data": {
      "text/plain": [
       "27"
      ]
     },
     "execution_count": 93,
     "metadata": {},
     "output_type": "execute_result"
    }
   ],
   "source": [
    "# и убедиться что ни чего не пропустил)\n",
    "len(answers)"
   ]
  },
  {
   "cell_type": "code",
   "execution_count": 0,
   "metadata": {
    "colab": {},
    "colab_type": "code",
    "id": "uCfuTkRbVqAg"
   },
   "outputs": [],
   "source": []
  },
  {
   "cell_type": "code",
   "execution_count": 0,
   "metadata": {
    "colab": {},
    "colab_type": "code",
    "id": "Vwx3NrkSVqAl"
   },
   "outputs": [],
   "source": []
  }
 ],
 "metadata": {
  "colab": {
   "name": "Copy of [SF-DST] Movies IMBD v4.1 TEMPLATE.ipynb",
   "provenance": []
  },
  "kernelspec": {
   "display_name": "Python 3",
   "language": "python",
   "name": "python3"
  },
  "language_info": {
   "codemirror_mode": {
    "name": "ipython",
    "version": 3
   },
   "file_extension": ".py",
   "mimetype": "text/x-python",
   "name": "python",
   "nbconvert_exporter": "python",
   "pygments_lexer": "ipython3",
   "version": "3.8.3"
  }
 },
 "nbformat": 4,
 "nbformat_minor": 1
}
