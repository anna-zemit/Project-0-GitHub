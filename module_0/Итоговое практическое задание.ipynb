{
 "cells": [
  {
   "cell_type": "markdown",
   "metadata": {},
   "source": [
    "# Приветствие пользователя"
   ]
  },
  {
   "cell_type": "code",
   "execution_count": 7,
   "metadata": {},
   "outputs": [],
   "source": [
    "def greeting():\n",
    "    print('Добро пожаловать в игру')\n",
    "    print()\n",
    "    print('Пожалуйста, ознакомьтесь с правилами:')\n",
    "    print('Игроки по очереди ставят на свободные клетки поля 3х3 знаки (один всегда крестики, другой всегда нолики).\\nПервый, выстроивший в ряд 3 своих фигуры по вертикали, горизонтали или диагонали, выигрывает.\\nПервый ход делает игрок, ставящий крестики.')\n",
    "    print()\n",
    "    print('Желаем удачи!')"
   ]
  },
  {
   "cell_type": "code",
   "execution_count": 8,
   "metadata": {},
   "outputs": [
    {
     "name": "stdout",
     "output_type": "stream",
     "text": [
      "Добро пожаловать в игру\n",
      "\n",
      "Пожалуйста, ознакомьтесь с правилами:\n",
      "Игроки по очереди ставят на свободные клетки поля 3х3 знаки (один всегда крестики, другой всегда нолики).\n",
      "Первый, выстроивший в ряд 3 своих фигуры по вертикали, горизонтали или диагонали, выигрывает.\n",
      "Первый ход делает игрок, ставящий крестики.\n",
      "\n",
      "Желаем удачи!\n"
     ]
    }
   ],
   "source": [
    "greeting()"
   ]
  },
  {
   "cell_type": "markdown",
   "metadata": {},
   "source": [
    "# Игровое поле"
   ]
  },
  {
   "cell_type": "code",
   "execution_count": 21,
   "metadata": {},
   "outputs": [],
   "source": [
    "table = [[' ']*3 for i in range(3)]"
   ]
  },
  {
   "cell_type": "code",
   "execution_count": 22,
   "metadata": {},
   "outputs": [
    {
     "data": {
      "text/plain": [
       "[[' ', ' ', ' '], [' ', ' ', ' '], [' ', ' ', ' ']]"
      ]
     },
     "execution_count": 22,
     "metadata": {},
     "output_type": "execute_result"
    }
   ],
   "source": [
    "table"
   ]
  },
  {
   "cell_type": "code",
   "execution_count": 11,
   "metadata": {},
   "outputs": [],
   "source": [
    "def print_table():\n",
    "    print('  | 0 | 1 | 2 |')\n",
    "    print('- - - - - - - -')\n",
    "    for i in range(3):\n",
    "        print(f'{i} | {table[i][0]} | {table[i][1]} | {table[i][2]} |')\n",
    "        print('- - - - - - - -')"
   ]
  },
  {
   "cell_type": "code",
   "execution_count": 12,
   "metadata": {},
   "outputs": [
    {
     "name": "stdout",
     "output_type": "stream",
     "text": [
      "  | 0 | 1 | 2 |\n",
      "- - - - - - - -\n",
      "0 |   |   |   |\n",
      "- - - - - - - -\n",
      "1 |   |   |   |\n",
      "- - - - - - - -\n",
      "2 |   |   |   |\n",
      "- - - - - - - -\n"
     ]
    }
   ],
   "source": [
    "print_table()"
   ]
  },
  {
   "cell_type": "markdown",
   "metadata": {},
   "source": [
    "# Ввод пользователя"
   ]
  },
  {
   "cell_type": "code",
   "execution_count": 39,
   "metadata": {},
   "outputs": [],
   "source": [
    "def ask():\n",
    "    while True:\n",
    "        cords = input('Введите координаты в формате:\\nx - номер строки\\ny - номер столбца\\n').split(' ')\n",
    "        \n",
    "        if len(cords) != 2:\n",
    "            print('Введите 2 координаты!')\n",
    "            continue\n",
    "            \n",
    "        x,y = cords\n",
    "        \n",
    "        if not(x.isdigit()) or not(y.isdigit()):\n",
    "            print('Введите числа!')\n",
    "            continue\n",
    "        \n",
    "        x, y = int(x), int(y)\n",
    "        \n",
    "        if x<0 or x>2 or y<0 or y>2:\n",
    "            print('Координаты вне диапозона')\n",
    "            continue\n",
    "        \n",
    "        if table[x][y] != ' ':\n",
    "            print('Клетка занята')\n",
    "            continue\n",
    "            \n",
    "        return x, y"
   ]
  },
  {
   "cell_type": "code",
   "execution_count": 40,
   "metadata": {
    "scrolled": true
   },
   "outputs": [
    {
     "name": "stdout",
     "output_type": "stream",
     "text": [
      "Введите координаты в формате:\n",
      "x - номер строки\n",
      "y - номер столбца\n",
      "w e\n",
      "Введите числа!\n",
      "Введите координаты в формате:\n",
      "x - номер строки\n",
      "y - номер столбца\n",
      "1\n",
      "Введите 2 координаты!\n",
      "Введите координаты в формате:\n",
      "x - номер строки\n",
      "y - номер столбца\n",
      "1 2\n"
     ]
    },
    {
     "data": {
      "text/plain": [
       "(1, 2)"
      ]
     },
     "execution_count": 40,
     "metadata": {},
     "output_type": "execute_result"
    }
   ],
   "source": [
    "ask()"
   ]
  },
  {
   "cell_type": "markdown",
   "metadata": {},
   "source": [
    "# Проверка выигрыша"
   ]
  },
  {
   "cell_type": "code",
   "execution_count": 51,
   "metadata": {},
   "outputs": [],
   "source": [
    "def if_win():\n",
    "    win_cord = (((0, 0), (0, 1), (0, 2)), ((1, 0), (1, 1), (1, 2)), ((2, 0), (2, 1), (2, 2)),\n",
    "                ((0, 2), (1, 1), (2, 0)), ((0, 0), (1, 1), (2, 2)), ((0, 0), (1, 0), (2, 0)),\n",
    "                ((0, 1), (1, 1), (2, 1)), ((0, 2), (1, 2), (2, 2)))\n",
    "    for i in win_cord:\n",
    "        a = i[0]\n",
    "        b = i[1]\n",
    "        c = i[2]\n",
    "        \n",
    "        if table[a[0]][a[1]] == table[b[0]][b[1]] == table[c[0]][c[1]] != ' ':\n",
    "            print(f'Выиграл {table[a[0]][a[1]]}')\n",
    "            return True\n",
    "    return False"
   ]
  },
  {
   "cell_type": "markdown",
   "metadata": {},
   "source": [
    "# Код игры"
   ]
  },
  {
   "cell_type": "code",
   "execution_count": 52,
   "metadata": {},
   "outputs": [
    {
     "name": "stdout",
     "output_type": "stream",
     "text": [
      "Добро пожаловать в игру\n",
      "\n",
      "Пожалуйста, ознакомьтесь с правилами:\n",
      "Игроки по очереди ставят на свободные клетки поля 3х3 знаки (один всегда крестики, другой всегда нолики).\n",
      "Первый, выстроивший в ряд 3 своих фигуры по вертикали, горизонтали или диагонали, выигрывает.\n",
      "Первый ход делает игрок, ставящий крестики.\n",
      "\n",
      "Желаем удачи!\n",
      "  | 0 | 1 | 2 |\n",
      "- - - - - - - -\n",
      "0 |   |   |   |\n",
      "- - - - - - - -\n",
      "1 |   |   |   |\n",
      "- - - - - - - -\n",
      "2 |   |   |   |\n",
      "- - - - - - - -\n",
      "Ходит крестик\n",
      "Введите координаты в формате:\n",
      "x - номер строки\n",
      "y - номер столбца\n",
      "0 0\n",
      "  | 0 | 1 | 2 |\n",
      "- - - - - - - -\n",
      "0 | X |   |   |\n",
      "- - - - - - - -\n",
      "1 |   |   |   |\n",
      "- - - - - - - -\n",
      "2 |   |   |   |\n",
      "- - - - - - - -\n",
      "Ходит нолик\n",
      "Введите координаты в формате:\n",
      "x - номер строки\n",
      "y - номер столбца\n",
      "1 0\n",
      "  | 0 | 1 | 2 |\n",
      "- - - - - - - -\n",
      "0 | X |   |   |\n",
      "- - - - - - - -\n",
      "1 | O |   |   |\n",
      "- - - - - - - -\n",
      "2 |   |   |   |\n",
      "- - - - - - - -\n",
      "Ходит крестик\n",
      "Введите координаты в формате:\n",
      "x - номер строки\n",
      "y - номер столбца\n",
      "1 1\n",
      "  | 0 | 1 | 2 |\n",
      "- - - - - - - -\n",
      "0 | X |   |   |\n",
      "- - - - - - - -\n",
      "1 | O | X |   |\n",
      "- - - - - - - -\n",
      "2 |   |   |   |\n",
      "- - - - - - - -\n",
      "Ходит нолик\n",
      "Введите координаты в формате:\n",
      "x - номер строки\n",
      "y - номер столбца\n",
      "2 0\n",
      "  | 0 | 1 | 2 |\n",
      "- - - - - - - -\n",
      "0 | X |   |   |\n",
      "- - - - - - - -\n",
      "1 | O | X |   |\n",
      "- - - - - - - -\n",
      "2 | O |   |   |\n",
      "- - - - - - - -\n",
      "Ходит крестик\n",
      "Введите координаты в формате:\n",
      "x - номер строки\n",
      "y - номер столбца\n",
      "2 2\n",
      "Выиграл X\n"
     ]
    }
   ],
   "source": [
    "greeting()\n",
    "table = [[' ']*3 for i in range(3)]\n",
    "move_number = 0\n",
    "\n",
    "while True:\n",
    "    move_number+=1\n",
    "    print_table()\n",
    "    \n",
    "    if move_number%2 != 0:\n",
    "        print('Ходит крестик')\n",
    "    else: print('Ходит нолик')\n",
    "        \n",
    "    x, y = ask()\n",
    "    \n",
    "    if move_number%2 != 0:\n",
    "        table[x][y] = 'X'\n",
    "    else: table[x][y] = 'O'\n",
    "        \n",
    "    if if_win():\n",
    "        break\n",
    "        \n",
    "    if move_number == 9:\n",
    "        print('Ничья')\n",
    "        break"
   ]
  },
  {
   "cell_type": "code",
   "execution_count": null,
   "metadata": {},
   "outputs": [],
   "source": []
  }
 ],
 "metadata": {
  "kernelspec": {
   "display_name": "Python 3",
   "language": "python",
   "name": "python3"
  }
 },
 "nbformat": 4,
 "nbformat_minor": 4
}
